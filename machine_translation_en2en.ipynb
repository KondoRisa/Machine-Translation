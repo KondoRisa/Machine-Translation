{
  "nbformat": 4,
  "nbformat_minor": 0,
  "metadata": {
    "colab": {
      "provenance": []
    },
    "kernelspec": {
      "name": "python3",
      "display_name": "Python 3"
    },
    "language_info": {
      "name": "python"
    },
    "gpuClass": "standard",
    "accelerator": "GPU"
  },
  "cells": [
    {
      "cell_type": "code",
      "execution_count": null,
      "metadata": {
        "colab": {
          "base_uri": "https://localhost:8080/"
        },
        "id": "DmNbtpf3u6bk",
        "outputId": "9458b0be-6751-4c07-c2be-f40a21673b3a"
      },
      "outputs": [
        {
          "output_type": "stream",
          "name": "stdout",
          "text": [
            "Drive already mounted at /content/drive; to attempt to forcibly remount, call drive.mount(\"/content/drive\", force_remount=True).\n"
          ]
        }
      ],
      "source": [
        "from google.colab import drive\n",
        "drive.mount('/content/drive')"
      ]
    },
    {
      "cell_type": "code",
      "source": [
        "! pip install fairseq==0.12.2"
      ],
      "metadata": {
        "id": "LhZh8SbWu8PC",
        "colab": {
          "base_uri": "https://localhost:8080/"
        },
        "outputId": "5f05751f-6755-47f2-9958-30b9f298daf9"
      },
      "execution_count": null,
      "outputs": [
        {
          "output_type": "stream",
          "name": "stdout",
          "text": [
            "Looking in indexes: https://pypi.org/simple, https://us-python.pkg.dev/colab-wheels/public/simple/\n",
            "Collecting fairseq==0.12.2\n",
            "  Downloading fairseq-0.12.2-cp37-cp37m-manylinux_2_5_x86_64.manylinux1_x86_64.whl (11.0 MB)\n",
            "\u001b[K     |████████████████████████████████| 11.0 MB 10.8 MB/s \n",
            "\u001b[?25hRequirement already satisfied: numpy in /usr/local/lib/python3.7/dist-packages (from fairseq==0.12.2) (1.21.6)\n",
            "Requirement already satisfied: cffi in /usr/local/lib/python3.7/dist-packages (from fairseq==0.12.2) (1.15.1)\n",
            "Requirement already satisfied: cython in /usr/local/lib/python3.7/dist-packages (from fairseq==0.12.2) (0.29.32)\n",
            "Collecting omegaconf<2.1\n",
            "  Downloading omegaconf-2.0.6-py3-none-any.whl (36 kB)\n",
            "Requirement already satisfied: tqdm in /usr/local/lib/python3.7/dist-packages (from fairseq==0.12.2) (4.64.1)\n",
            "Requirement already satisfied: regex in /usr/local/lib/python3.7/dist-packages (from fairseq==0.12.2) (2022.6.2)\n",
            "Collecting sacrebleu>=1.4.12\n",
            "  Downloading sacrebleu-2.3.1-py3-none-any.whl (118 kB)\n",
            "\u001b[K     |████████████████████████████████| 118 kB 70.1 MB/s \n",
            "\u001b[?25hCollecting bitarray\n",
            "  Downloading bitarray-2.6.0-cp37-cp37m-manylinux_2_17_x86_64.manylinux2014_x86_64.whl (235 kB)\n",
            "\u001b[K     |████████████████████████████████| 235 kB 71.6 MB/s \n",
            "\u001b[?25hCollecting hydra-core<1.1,>=1.0.7\n",
            "  Downloading hydra_core-1.0.7-py3-none-any.whl (123 kB)\n",
            "\u001b[K     |████████████████████████████████| 123 kB 68.1 MB/s \n",
            "\u001b[?25hRequirement already satisfied: torchaudio>=0.8.0 in /usr/local/lib/python3.7/dist-packages (from fairseq==0.12.2) (0.12.1+cu113)\n",
            "Requirement already satisfied: torch in /usr/local/lib/python3.7/dist-packages (from fairseq==0.12.2) (1.12.1+cu113)\n",
            "Collecting antlr4-python3-runtime==4.8\n",
            "  Downloading antlr4-python3-runtime-4.8.tar.gz (112 kB)\n",
            "\u001b[K     |████████████████████████████████| 112 kB 68.3 MB/s \n",
            "\u001b[?25hRequirement already satisfied: importlib-resources in /usr/local/lib/python3.7/dist-packages (from hydra-core<1.1,>=1.0.7->fairseq==0.12.2) (5.10.0)\n",
            "Requirement already satisfied: typing-extensions in /usr/local/lib/python3.7/dist-packages (from omegaconf<2.1->fairseq==0.12.2) (4.1.1)\n",
            "Requirement already satisfied: PyYAML>=5.1.* in /usr/local/lib/python3.7/dist-packages (from omegaconf<2.1->fairseq==0.12.2) (6.0)\n",
            "Requirement already satisfied: lxml in /usr/local/lib/python3.7/dist-packages (from sacrebleu>=1.4.12->fairseq==0.12.2) (4.9.1)\n",
            "Requirement already satisfied: tabulate>=0.8.9 in /usr/local/lib/python3.7/dist-packages (from sacrebleu>=1.4.12->fairseq==0.12.2) (0.8.10)\n",
            "Collecting portalocker\n",
            "  Downloading portalocker-2.6.0-py2.py3-none-any.whl (15 kB)\n",
            "Collecting colorama\n",
            "  Downloading colorama-0.4.6-py2.py3-none-any.whl (25 kB)\n",
            "Requirement already satisfied: pycparser in /usr/local/lib/python3.7/dist-packages (from cffi->fairseq==0.12.2) (2.21)\n",
            "Requirement already satisfied: zipp>=3.1.0 in /usr/local/lib/python3.7/dist-packages (from importlib-resources->hydra-core<1.1,>=1.0.7->fairseq==0.12.2) (3.10.0)\n",
            "Building wheels for collected packages: antlr4-python3-runtime\n",
            "  Building wheel for antlr4-python3-runtime (setup.py) ... \u001b[?25l\u001b[?25hdone\n",
            "  Created wheel for antlr4-python3-runtime: filename=antlr4_python3_runtime-4.8-py3-none-any.whl size=141231 sha256=88e4a31bf1f8c73ac1d0a7a3b4fbf141c8507c9b85d84aea81c5209ad90fdf2d\n",
            "  Stored in directory: /root/.cache/pip/wheels/ca/33/b7/336836125fc9bb4ceaa4376d8abca10ca8bc84ddc824baea6c\n",
            "Successfully built antlr4-python3-runtime\n",
            "Installing collected packages: portalocker, omegaconf, colorama, antlr4-python3-runtime, sacrebleu, hydra-core, bitarray, fairseq\n",
            "Successfully installed antlr4-python3-runtime-4.8 bitarray-2.6.0 colorama-0.4.6 fairseq-0.12.2 hydra-core-1.0.7 omegaconf-2.0.6 portalocker-2.6.0 sacrebleu-2.3.1\n"
          ]
        }
      ]
    },
    {
      "cell_type": "code",
      "source": [
        "!wget \"https://www.kecl.ntt.co.jp/icl/lirg/jparacrawl/release/3.0/pretrained_models/ja-en/small.tar.gz\"\n",
        "\n",
        "!tar -zxvf small.tar.gz\n",
        "# https://www.kecl.ntt.co.jp/icl/lirg/jparacrawl/\n",
        "# https://www.otofu.org/papers/morishita20nlp.pdf"
      ],
      "metadata": {
        "id": "ykt-QhPnRlS-",
        "colab": {
          "base_uri": "https://localhost:8080/"
        },
        "outputId": "3381f7bb-579b-48ee-d39a-a88577210121"
      },
      "execution_count": null,
      "outputs": [
        {
          "output_type": "stream",
          "name": "stdout",
          "text": [
            "--2022-11-30 12:25:25--  https://www.kecl.ntt.co.jp/icl/lirg/jparacrawl/release/3.0/pretrained_models/ja-en/small.tar.gz\n",
            "Resolving www.kecl.ntt.co.jp (www.kecl.ntt.co.jp)... 163.137.218.58\n",
            "Connecting to www.kecl.ntt.co.jp (www.kecl.ntt.co.jp)|163.137.218.58|:443... connected.\n",
            "HTTP request sent, awaiting response... 200 OK\n",
            "Length: 814487726 (777M) [application/x-gzip]\n",
            "Saving to: ‘small.tar.gz’\n",
            "\n",
            "small.tar.gz        100%[===================>] 776.76M   569KB/s    in 23m 47s \n",
            "\n",
            "2022-11-30 12:49:14 (557 KB/s) - ‘small.tar.gz’ saved [814487726/814487726]\n",
            "\n",
            "small/\n",
            "small/dict.en.txt\n",
            "small/LICENSE\n",
            "small/small.pretrain.pt\n",
            "small/dict.ja.txt\n"
          ]
        }
      ]
    },
    {
      "cell_type": "markdown",
      "source": [
        "#sentencepiece"
      ],
      "metadata": {
        "id": "hJUUtsRDb618"
      }
    },
    {
      "cell_type": "code",
      "source": [
        "! pip install sentencepiece"
      ],
      "metadata": {
        "colab": {
          "base_uri": "https://localhost:8080/"
        },
        "id": "QB8kqftaDFtE",
        "outputId": "017c8d7c-f970-4b9e-e0f1-605ef7a0e0b8"
      },
      "execution_count": null,
      "outputs": [
        {
          "output_type": "stream",
          "name": "stdout",
          "text": [
            "Looking in indexes: https://pypi.org/simple, https://us-python.pkg.dev/colab-wheels/public/simple/\n",
            "Collecting sentencepiece\n",
            "  Downloading sentencepiece-0.1.97-cp37-cp37m-manylinux_2_17_x86_64.manylinux2014_x86_64.whl (1.3 MB)\n",
            "\u001b[K     |████████████████████████████████| 1.3 MB 13.1 MB/s \n",
            "\u001b[?25hInstalling collected packages: sentencepiece\n",
            "Successfully installed sentencepiece-0.1.97\n"
          ]
        }
      ]
    },
    {
      "cell_type": "code",
      "source": [
        "!wget https://www.kecl.ntt.co.jp/icl/lirg/jparacrawl/release/3.0/spm_models/en-ja_spm.tar.gz\n",
        "!tar -zxvf en-ja_spm.tar.gz"
      ],
      "metadata": {
        "colab": {
          "base_uri": "https://localhost:8080/"
        },
        "id": "6yKPmeXrqj4A",
        "outputId": "5bac8d1b-faba-416e-f3b6-fe5d978041d7"
      },
      "execution_count": null,
      "outputs": [
        {
          "output_type": "stream",
          "name": "stdout",
          "text": [
            "--2022-11-30 12:49:28--  https://www.kecl.ntt.co.jp/icl/lirg/jparacrawl/release/3.0/spm_models/en-ja_spm.tar.gz\n",
            "Resolving www.kecl.ntt.co.jp (www.kecl.ntt.co.jp)... 163.137.218.58\n",
            "Connecting to www.kecl.ntt.co.jp (www.kecl.ntt.co.jp)|163.137.218.58|:443... connected.\n",
            "HTTP request sent, awaiting response... 200 OK\n",
            "Length: 1138921 (1.1M) [application/x-gzip]\n",
            "Saving to: ‘en-ja_spm.tar.gz’\n",
            "\n",
            "en-ja_spm.tar.gz    100%[===================>]   1.09M   447KB/s    in 2.5s    \n",
            "\n",
            "2022-11-30 12:49:32 (447 KB/s) - ‘en-ja_spm.tar.gz’ saved [1138921/1138921]\n",
            "\n",
            "enja_spm_models/\n",
            "enja_spm_models/spm.en.nopretok.vocab\n",
            "enja_spm_models/spm.en.nopretok.model\n",
            "enja_spm_models/spm.ja.nopretok.model\n",
            "enja_spm_models/spm.ja.nopretok.vocab\n"
          ]
        }
      ]
    },
    {
      "cell_type": "code",
      "source": [
        "# 同封のsentencepieceをロード https://www.kecl.ntt.co.jp/icl/lirg/jparacrawl/\n",
        "import sentencepiece as spm\n",
        "sp_ja = spm.SentencePieceProcessor()\n",
        "sp_en = spm.SentencePieceProcessor()\n",
        "sp_ja.load('/content/enja_spm_models/spm.ja.nopretok.model')\n",
        "sp_en.load('/content/enja_spm_models/spm.en.nopretok.model')"
      ],
      "metadata": {
        "colab": {
          "base_uri": "https://localhost:8080/"
        },
        "id": "y5u3CjZXDLtj",
        "outputId": "dfc4bf34-5e67-41d6-b011-06b19eaf7361"
      },
      "execution_count": null,
      "outputs": [
        {
          "output_type": "execute_result",
          "data": {
            "text/plain": [
              "True"
            ]
          },
          "metadata": {},
          "execution_count": 7
        }
      ]
    },
    {
      "cell_type": "code",
      "source": [
        "#import zenhan\n",
        "def sentencepiece_en(outfile, infile):\n",
        "    fout = open(outfile, \"w\")\n",
        "    fin = open(infile, \"r\")\n",
        "    for line in fin:\n",
        "        text = \" \".join(sp_en.encode_as_pieces(line.strip()))\n",
        "        fout.write(text + \"\\n\")\n",
        "    fin.close()\n",
        "    fout.close()\n",
        "\n",
        "def sentencepiece_ja(outfile, infile):\n",
        "    fout = open(outfile, \"w\")\n",
        "    fin = open(infile, \"r\")\n",
        "    for line in fin:\n",
        "        text = \" \".join(sp_ja.encode_as_pieces(line.strip()))\n",
        "        fout.write(text + \"\\n\")\n",
        "    fin.close()\n",
        "    fout.close()"
      ],
      "metadata": {
        "id": "O7-jBqNiYJcX"
      },
      "execution_count": null,
      "outputs": []
    },
    {
      "cell_type": "code",
      "source": [
        "# 前処理（日本語の単語分割）sentencepiece\n",
        "\n",
        "# train\n",
        "sentencepiece_ja(\"train.ja\", \"/content/drive/MyDrive/exp5-4-1/ja.comp.train.txt\")\n",
        "sentencepiece_en(\"train.en\", \"/content/drive/MyDrive/exp5-4-1/en.train.txt\")\n",
        "\n",
        "# valid\n",
        "sentencepiece_ja(\"valid.ja\", \"/content/drive/MyDrive/exp5-4-1/ja.comp.valid.txt\")\n",
        "sentencepiece_en(\"valid.en\", \"/content/drive/MyDrive/exp5-4-1/en.valid.txt\")\n",
        "\n",
        "# test\n",
        "sentencepiece_ja(\"test.ja\", \"/content/drive/MyDrive/exp5-4-1/ja.comp.test.txt\")\n",
        "sentencepiece_en(\"test.en\", \"/content/drive/MyDrive/exp5-4-1/en.test.txt\")\n",
        "\n",
        "# eval\n",
        "sentencepiece_ja(\"eval.ja\", \"/content/drive/MyDrive/exp5-4-1/ja.comp.eval.txt\")"
      ],
      "metadata": {
        "id": "4tSxQnuWYojF"
      },
      "execution_count": null,
      "outputs": []
    },
    {
      "cell_type": "markdown",
      "source": [
        "#共通の処理"
      ],
      "metadata": {
        "id": "nMYlsSSecEzW"
      }
    },
    {
      "cell_type": "code",
      "source": [
        "from torchtext.data.metrics import bleu_score\n",
        "\n",
        "def bleu(fname_ref, fname_pred):    \n",
        "    # 正解文\n",
        "    fin = open(fname_ref, \"r\")\n",
        "    refs = [[line.strip().split()] for line in fin]\n",
        "    fin.close()\n",
        "    # 出力文\n",
        "    fin = open(fname_pred, \"r\")\n",
        "    preds = [line.strip().split() for line in fin]\n",
        "    fin.close()\n",
        "    # BLEU\n",
        "    score = bleu_score(preds, refs)\n",
        "    print(\"BLEU = %.2f\" % (score*100))"
      ],
      "metadata": {
        "id": "2Yurds17u_rD"
      },
      "execution_count": null,
      "outputs": []
    },
    {
      "cell_type": "code",
      "source": [
        "# データセットの準備\n",
        "\n",
        "! fairseq-preprocess --source-lang ja --target-lang en --trainpref train --validpref valid --testpref test --tgtdict small/dict.en.txt --srcdict small/dict.ja.txt"
      ],
      "metadata": {
        "id": "jRgw2vI9RBt9",
        "colab": {
          "base_uri": "https://localhost:8080/"
        },
        "outputId": "64e91d25-c1ed-4440-f983-e64b00f65925"
      },
      "execution_count": null,
      "outputs": [
        {
          "output_type": "stream",
          "name": "stdout",
          "text": [
            "2022-11-30 15:01:28 | INFO | fairseq.tasks.text_to_speech | Please install tensorboardX: pip install tensorboardX\n",
            "2022-11-30 15:01:28 | INFO | fairseq_cli.preprocess | Namespace(aim_repo=None, aim_run_hash=None, align_suffix=None, alignfile=None, all_gather_list_size=16384, amp=False, amp_batch_retries=2, amp_init_scale=128, amp_scale_window=None, azureml_logging=False, bf16=False, bpe=None, cpu=False, criterion='cross_entropy', dataset_impl='mmap', destdir='data-bin', dict_only=False, empty_cache_freq=0, fp16=False, fp16_init_scale=128, fp16_no_flatten_grads=False, fp16_scale_tolerance=0.0, fp16_scale_window=None, joined_dictionary=False, log_file=None, log_format=None, log_interval=100, lr_scheduler='fixed', memory_efficient_bf16=False, memory_efficient_fp16=False, min_loss_scale=0.0001, model_parallel_size=1, no_progress_bar=False, nwordssrc=-1, nwordstgt=-1, on_cpu_convert_precision=False, only_source=False, optimizer=None, padding_factor=8, plasma_path='/tmp/plasma', profile=False, quantization_config_path=None, reset_logging=False, scoring='bleu', seed=1, source_lang='ja', srcdict='small/dict.ja.txt', suppress_crashes=False, target_lang='en', task='translation', tensorboard_logdir=None, testpref='test', tgtdict='small/dict.en.txt', threshold_loss_scale=None, thresholdsrc=0, thresholdtgt=0, tokenizer=None, tpu=False, trainpref='train', use_plasma_view=False, user_dir=None, validpref='valid', wandb_project=None, workers=1)\n",
            "2022-11-30 15:01:28 | INFO | fairseq_cli.preprocess | [ja] Dictionary: 31984 types\n",
            "2022-11-30 15:01:33 | INFO | fairseq_cli.preprocess | [ja] train.ja: 50000 sents, 515421 tokens, 0.000194% replaced (by <unk>)\n",
            "2022-11-30 15:01:33 | INFO | fairseq_cli.preprocess | [ja] Dictionary: 31984 types\n",
            "2022-11-30 15:01:33 | INFO | fairseq_cli.preprocess | [ja] valid.ja: 1000 sents, 11554 tokens, 0.0% replaced (by <unk>)\n",
            "2022-11-30 15:01:33 | INFO | fairseq_cli.preprocess | [ja] Dictionary: 31984 types\n",
            "2022-11-30 15:01:33 | INFO | fairseq_cli.preprocess | [ja] test.ja: 1000 sents, 11730 tokens, 0.0% replaced (by <unk>)\n",
            "2022-11-30 15:01:33 | INFO | fairseq_cli.preprocess | [en] Dictionary: 32024 types\n",
            "2022-11-30 15:01:37 | INFO | fairseq_cli.preprocess | [en] train.en: 50000 sents, 517696 tokens, 0.0% replaced (by <unk>)\n",
            "2022-11-30 15:01:37 | INFO | fairseq_cli.preprocess | [en] Dictionary: 32024 types\n",
            "2022-11-30 15:01:37 | INFO | fairseq_cli.preprocess | [en] valid.en: 1000 sents, 11524 tokens, 0.0% replaced (by <unk>)\n",
            "2022-11-30 15:01:37 | INFO | fairseq_cli.preprocess | [en] Dictionary: 32024 types\n",
            "2022-11-30 15:01:37 | INFO | fairseq_cli.preprocess | [en] test.en: 1000 sents, 11562 tokens, 0.0% replaced (by <unk>)\n",
            "2022-11-30 15:01:37 | INFO | fairseq_cli.preprocess | Wrote preprocessed data to data-bin\n"
          ]
        }
      ]
    },
    {
      "cell_type": "code",
      "source": [
        "# 訓練\n",
        "! fairseq-train data-bin --arch transformer --restore-file /content/small/small.pretrain.pt \\\n",
        "    --encoder-embed-dim 512 --decoder-embed-dim 512 \\\n",
        "    --encoder-ffn-embed-dim 1024 --decoder-ffn-embed-dim 1024 \\\n",
        "    --encoder-attention-heads 4 --decoder-attention-heads 4 \\\n",
        "    --batch-size 128 --source-lang ja --target-lang en \\\n",
        "    --optimizer adam --lr-scheduler inverse_sqrt --lr 1e-4 --warmup-updates 400 \\\n",
        "    --dropout 0.25 --reset-optimizer --reset-meters --reset-dataloader --reset-lr-scheduler \\\n",
        "    --no-epoch-checkpoints --seed 5 --patience 3 "
      ],
      "metadata": {
        "colab": {
          "base_uri": "https://localhost:8080/"
        },
        "id": "TQ8gfcKQRcmT",
        "outputId": "9bb1daea-978d-4736-a651-52df4cb9b5d7"
      },
      "execution_count": null,
      "outputs": [
        {
          "output_type": "stream",
          "name": "stdout",
          "text": [
            "2022-11-30 17:13:05 | INFO | fairseq.tasks.text_to_speech | Please install tensorboardX: pip install tensorboardX\n",
            "2022-11-30 17:13:07 | INFO | fairseq_cli.train | {'_name': None, 'common': {'_name': None, 'no_progress_bar': False, 'log_interval': 100, 'log_format': None, 'log_file': None, 'aim_repo': None, 'aim_run_hash': None, 'tensorboard_logdir': None, 'wandb_project': None, 'azureml_logging': False, 'seed': 5, 'cpu': False, 'tpu': False, 'bf16': False, 'memory_efficient_bf16': False, 'fp16': False, 'memory_efficient_fp16': False, 'fp16_no_flatten_grads': False, 'fp16_init_scale': 128, 'fp16_scale_window': None, 'fp16_scale_tolerance': 0.0, 'on_cpu_convert_precision': False, 'min_loss_scale': 0.0001, 'threshold_loss_scale': None, 'amp': False, 'amp_batch_retries': 2, 'amp_init_scale': 128, 'amp_scale_window': None, 'user_dir': None, 'empty_cache_freq': 0, 'all_gather_list_size': 16384, 'model_parallel_size': 1, 'quantization_config_path': None, 'profile': False, 'reset_logging': False, 'suppress_crashes': False, 'use_plasma_view': False, 'plasma_path': '/tmp/plasma'}, 'common_eval': {'_name': None, 'path': None, 'post_process': None, 'quiet': False, 'model_overrides': '{}', 'results_path': None}, 'distributed_training': {'_name': None, 'distributed_world_size': 1, 'distributed_num_procs': 1, 'distributed_rank': 0, 'distributed_backend': 'nccl', 'distributed_init_method': None, 'distributed_port': -1, 'device_id': 0, 'distributed_no_spawn': False, 'ddp_backend': 'pytorch_ddp', 'ddp_comm_hook': 'none', 'bucket_cap_mb': 25, 'fix_batches_to_gpus': False, 'find_unused_parameters': False, 'gradient_as_bucket_view': False, 'fast_stat_sync': False, 'heartbeat_timeout': -1, 'broadcast_buffers': False, 'slowmo_momentum': None, 'slowmo_base_algorithm': 'localsgd', 'localsgd_frequency': 3, 'nprocs_per_node': 1, 'pipeline_model_parallel': False, 'pipeline_balance': None, 'pipeline_devices': None, 'pipeline_chunks': 0, 'pipeline_encoder_balance': None, 'pipeline_encoder_devices': None, 'pipeline_decoder_balance': None, 'pipeline_decoder_devices': None, 'pipeline_checkpoint': 'never', 'zero_sharding': 'none', 'fp16': False, 'memory_efficient_fp16': False, 'tpu': False, 'no_reshard_after_forward': False, 'fp32_reduce_scatter': False, 'cpu_offload': False, 'use_sharded_state': False, 'not_fsdp_flatten_parameters': False}, 'dataset': {'_name': None, 'num_workers': 1, 'skip_invalid_size_inputs_valid_test': False, 'max_tokens': None, 'batch_size': 128, 'required_batch_size_multiple': 8, 'required_seq_len_multiple': 1, 'dataset_impl': None, 'data_buffer_size': 10, 'train_subset': 'train', 'valid_subset': 'valid', 'combine_valid_subsets': None, 'ignore_unused_valid_subsets': False, 'validate_interval': 1, 'validate_interval_updates': 0, 'validate_after_updates': 0, 'fixed_validation_seed': None, 'disable_validation': False, 'max_tokens_valid': None, 'batch_size_valid': 128, 'max_valid_steps': None, 'curriculum': 0, 'gen_subset': 'test', 'num_shards': 1, 'shard_id': 0, 'grouped_shuffling': False, 'update_epoch_batch_itr': False, 'update_ordered_indices_seed': False}, 'optimization': {'_name': None, 'max_epoch': 0, 'max_update': 0, 'stop_time_hours': 0.0, 'clip_norm': 0.0, 'sentence_avg': False, 'update_freq': [1], 'lr': [0.0001], 'stop_min_lr': -1.0, 'use_bmuf': False, 'skip_remainder_batch': False}, 'checkpoint': {'_name': None, 'save_dir': 'checkpoints', 'restore_file': '/content/small/small.pretrain.pt', 'continue_once': None, 'finetune_from_model': None, 'reset_dataloader': True, 'reset_lr_scheduler': True, 'reset_meters': True, 'reset_optimizer': True, 'optimizer_overrides': '{}', 'save_interval': 1, 'save_interval_updates': 0, 'keep_interval_updates': -1, 'keep_interval_updates_pattern': -1, 'keep_last_epochs': -1, 'keep_best_checkpoints': -1, 'no_save': False, 'no_epoch_checkpoints': True, 'no_last_checkpoints': False, 'no_save_optimizer_state': False, 'best_checkpoint_metric': 'loss', 'maximize_best_checkpoint_metric': False, 'patience': 3, 'checkpoint_suffix': '', 'checkpoint_shard_count': 1, 'load_checkpoint_on_all_dp_ranks': False, 'write_checkpoints_asynchronously': False, 'model_parallel_size': 1}, 'bmuf': {'_name': None, 'block_lr': 1.0, 'block_momentum': 0.875, 'global_sync_iter': 50, 'warmup_iterations': 500, 'use_nbm': False, 'average_sync': False, 'distributed_world_size': 1}, 'generation': {'_name': None, 'beam': 5, 'nbest': 1, 'max_len_a': 0.0, 'max_len_b': 200, 'min_len': 1, 'match_source_len': False, 'unnormalized': False, 'no_early_stop': False, 'no_beamable_mm': False, 'lenpen': 1.0, 'unkpen': 0.0, 'replace_unk': None, 'sacrebleu': False, 'score_reference': False, 'prefix_size': 0, 'no_repeat_ngram_size': 0, 'sampling': False, 'sampling_topk': -1, 'sampling_topp': -1.0, 'constraints': None, 'temperature': 1.0, 'diverse_beam_groups': -1, 'diverse_beam_strength': 0.5, 'diversity_rate': -1.0, 'print_alignment': None, 'print_step': False, 'lm_path': None, 'lm_weight': 0.0, 'iter_decode_eos_penalty': 0.0, 'iter_decode_max_iter': 10, 'iter_decode_force_max_iter': False, 'iter_decode_with_beam': 1, 'iter_decode_with_external_reranker': False, 'retain_iter_history': False, 'retain_dropout': False, 'retain_dropout_modules': None, 'decoding_format': None, 'no_seed_provided': False, 'eos_token': None}, 'eval_lm': {'_name': None, 'output_word_probs': False, 'output_word_stats': False, 'context_window': 0, 'softmax_batch': 9223372036854775807}, 'interactive': {'_name': None, 'buffer_size': 0, 'input': '-'}, 'model': Namespace(_name='transformer', activation_dropout=0.0, activation_fn='relu', adam_betas=(0.9, 0.999), adam_eps=1e-08, adaptive_input=False, adaptive_softmax_cutoff=None, adaptive_softmax_dropout=0, aim_repo=None, aim_run_hash=None, all_gather_list_size=16384, amp=False, amp_batch_retries=2, amp_init_scale=128, amp_scale_window=None, arch='transformer', attention_dropout=0.0, azureml_logging=False, batch_size=128, batch_size_valid=128, best_checkpoint_metric='loss', bf16=False, bpe=None, broadcast_buffers=False, bucket_cap_mb=25, checkpoint_activations=False, checkpoint_shard_count=1, checkpoint_suffix='', clip_norm=0.0, combine_valid_subsets=None, continue_once=None, cpu=False, cpu_offload=False, criterion='cross_entropy', cross_self_attention=False, curriculum=0, data='data-bin', data_buffer_size=10, dataset_impl=None, ddp_backend='pytorch_ddp', ddp_comm_hook='none', decoder_attention_heads=4, decoder_embed_dim=512, decoder_embed_path=None, decoder_ffn_embed_dim=1024, decoder_input_dim=512, decoder_layerdrop=0, decoder_layers=6, decoder_layers_to_keep=None, decoder_learned_pos=False, decoder_normalize_before=False, decoder_output_dim=512, device_id=0, disable_validation=False, distributed_backend='nccl', distributed_init_method=None, distributed_no_spawn=False, distributed_num_procs=1, distributed_port=-1, distributed_rank=0, distributed_world_size=1, dropout=0.25, ema_decay=0.9999, ema_fp32=False, ema_seed_model=None, ema_start_update=0, ema_update_freq=1, empty_cache_freq=0, encoder_attention_heads=4, encoder_embed_dim=512, encoder_embed_path=None, encoder_ffn_embed_dim=1024, encoder_layerdrop=0, encoder_layers=6, encoder_layers_to_keep=None, encoder_learned_pos=False, encoder_normalize_before=False, eos=2, eval_bleu=False, eval_bleu_args='{}', eval_bleu_detok='space', eval_bleu_detok_args='{}', eval_bleu_print_samples=False, eval_bleu_remove_bpe=None, eval_tokenized_bleu=False, fast_stat_sync=False, find_unused_parameters=False, finetune_from_model=None, fix_batches_to_gpus=False, fixed_validation_seed=None, fp16=False, fp16_adam_stats=False, fp16_init_scale=128, fp16_no_flatten_grads=False, fp16_scale_tolerance=0.0, fp16_scale_window=None, fp32_reduce_scatter=False, gen_subset='test', gradient_as_bucket_view=False, grouped_shuffling=False, heartbeat_timeout=-1, ignore_unused_valid_subsets=False, keep_best_checkpoints=-1, keep_interval_updates=-1, keep_interval_updates_pattern=-1, keep_last_epochs=-1, layernorm_embedding=False, left_pad_source=True, left_pad_target=False, load_alignments=False, load_checkpoint_on_all_dp_ranks=False, localsgd_frequency=3, log_file=None, log_format=None, log_interval=100, lr=[0.0001], lr_scheduler='inverse_sqrt', max_epoch=0, max_tokens=None, max_tokens_valid=None, max_update=0, max_valid_steps=None, maximize_best_checkpoint_metric=False, memory_efficient_bf16=False, memory_efficient_fp16=False, min_loss_scale=0.0001, model_parallel_size=1, no_cross_attention=False, no_epoch_checkpoints=True, no_last_checkpoints=False, no_progress_bar=False, no_reshard_after_forward=False, no_save=False, no_save_optimizer_state=False, no_scale_embedding=False, no_seed_provided=False, no_token_positional_embeddings=False, not_fsdp_flatten_parameters=False, nprocs_per_node=1, num_batch_buckets=0, num_shards=1, num_workers=1, offload_activations=False, on_cpu_convert_precision=False, optimizer='adam', optimizer_overrides='{}', pad=1, patience=3, pipeline_balance=None, pipeline_checkpoint='never', pipeline_chunks=0, pipeline_decoder_balance=None, pipeline_decoder_devices=None, pipeline_devices=None, pipeline_encoder_balance=None, pipeline_encoder_devices=None, pipeline_model_parallel=False, plasma_path='/tmp/plasma', profile=False, quant_noise_pq=0, quant_noise_pq_block_size=8, quant_noise_scalar=0, quantization_config_path=None, required_batch_size_multiple=8, required_seq_len_multiple=1, reset_dataloader=True, reset_logging=False, reset_lr_scheduler=True, reset_meters=True, reset_optimizer=True, restore_file='/content/small/small.pretrain.pt', save_dir='checkpoints', save_interval=1, save_interval_updates=0, scoring='bleu', seed=5, sentence_avg=False, shard_id=0, share_all_embeddings=False, share_decoder_input_output_embed=False, skip_invalid_size_inputs_valid_test=False, skip_remainder_batch=False, slowmo_base_algorithm='localsgd', slowmo_momentum=None, source_lang='ja', stop_min_lr=-1.0, stop_time_hours=0, store_ema=False, suppress_crashes=False, target_lang='en', task='translation', tensorboard_logdir=None, threshold_loss_scale=None, tie_adaptive_weights=False, tokenizer=None, tpu=False, train_subset='train', truncate_source=False, unk=3, update_epoch_batch_itr=False, update_freq=[1], update_ordered_indices_seed=False, upsample_primary=-1, use_bmuf=False, use_old_adam=False, use_plasma_view=False, use_sharded_state=False, user_dir=None, valid_subset='valid', validate_after_updates=0, validate_interval=1, validate_interval_updates=0, wandb_project=None, warmup_init_lr=-1, warmup_updates=400, weight_decay=0.0, write_checkpoints_asynchronously=False, zero_sharding='none'), 'task': {'_name': 'translation', 'data': 'data-bin', 'source_lang': 'ja', 'target_lang': 'en', 'load_alignments': False, 'left_pad_source': True, 'left_pad_target': False, 'max_source_positions': 1024, 'max_target_positions': 1024, 'upsample_primary': -1, 'truncate_source': False, 'num_batch_buckets': 0, 'train_subset': 'train', 'dataset_impl': None, 'required_seq_len_multiple': 1, 'eval_bleu': False, 'eval_bleu_args': '{}', 'eval_bleu_detok': 'space', 'eval_bleu_detok_args': '{}', 'eval_tokenized_bleu': False, 'eval_bleu_remove_bpe': None, 'eval_bleu_print_samples': False}, 'criterion': {'_name': 'cross_entropy', 'sentence_avg': False}, 'optimizer': {'_name': 'adam', 'adam_betas': [0.9, 0.999], 'adam_eps': 1e-08, 'weight_decay': 0.0, 'use_old_adam': False, 'fp16_adam_stats': False, 'tpu': False, 'lr': [0.0001]}, 'lr_scheduler': {'_name': 'inverse_sqrt', 'warmup_updates': 400, 'warmup_init_lr': -1.0, 'lr': [0.0001]}, 'scoring': {'_name': 'bleu', 'pad': 1, 'eos': 2, 'unk': 3}, 'bpe': None, 'tokenizer': None, 'ema': {'_name': None, 'store_ema': False, 'ema_decay': 0.9999, 'ema_start_update': 0, 'ema_seed_model': None, 'ema_update_freq': 1, 'ema_fp32': False}}\n",
            "2022-11-30 17:13:07 | INFO | fairseq.tasks.translation | [ja] dictionary: 31984 types\n",
            "2022-11-30 17:13:07 | INFO | fairseq.tasks.translation | [en] dictionary: 32024 types\n",
            "2022-11-30 17:13:08 | INFO | fairseq_cli.train | TransformerModel(\n",
            "  (encoder): TransformerEncoderBase(\n",
            "    (dropout_module): FairseqDropout()\n",
            "    (embed_tokens): Embedding(31984, 512, padding_idx=1)\n",
            "    (embed_positions): SinusoidalPositionalEmbedding()\n",
            "    (layers): ModuleList(\n",
            "      (0): TransformerEncoderLayerBase(\n",
            "        (self_attn): MultiheadAttention(\n",
            "          (dropout_module): FairseqDropout()\n",
            "          (k_proj): Linear(in_features=512, out_features=512, bias=True)\n",
            "          (v_proj): Linear(in_features=512, out_features=512, bias=True)\n",
            "          (q_proj): Linear(in_features=512, out_features=512, bias=True)\n",
            "          (out_proj): Linear(in_features=512, out_features=512, bias=True)\n",
            "        )\n",
            "        (self_attn_layer_norm): LayerNorm((512,), eps=1e-05, elementwise_affine=True)\n",
            "        (dropout_module): FairseqDropout()\n",
            "        (activation_dropout_module): FairseqDropout()\n",
            "        (fc1): Linear(in_features=512, out_features=1024, bias=True)\n",
            "        (fc2): Linear(in_features=1024, out_features=512, bias=True)\n",
            "        (final_layer_norm): LayerNorm((512,), eps=1e-05, elementwise_affine=True)\n",
            "      )\n",
            "      (1): TransformerEncoderLayerBase(\n",
            "        (self_attn): MultiheadAttention(\n",
            "          (dropout_module): FairseqDropout()\n",
            "          (k_proj): Linear(in_features=512, out_features=512, bias=True)\n",
            "          (v_proj): Linear(in_features=512, out_features=512, bias=True)\n",
            "          (q_proj): Linear(in_features=512, out_features=512, bias=True)\n",
            "          (out_proj): Linear(in_features=512, out_features=512, bias=True)\n",
            "        )\n",
            "        (self_attn_layer_norm): LayerNorm((512,), eps=1e-05, elementwise_affine=True)\n",
            "        (dropout_module): FairseqDropout()\n",
            "        (activation_dropout_module): FairseqDropout()\n",
            "        (fc1): Linear(in_features=512, out_features=1024, bias=True)\n",
            "        (fc2): Linear(in_features=1024, out_features=512, bias=True)\n",
            "        (final_layer_norm): LayerNorm((512,), eps=1e-05, elementwise_affine=True)\n",
            "      )\n",
            "      (2): TransformerEncoderLayerBase(\n",
            "        (self_attn): MultiheadAttention(\n",
            "          (dropout_module): FairseqDropout()\n",
            "          (k_proj): Linear(in_features=512, out_features=512, bias=True)\n",
            "          (v_proj): Linear(in_features=512, out_features=512, bias=True)\n",
            "          (q_proj): Linear(in_features=512, out_features=512, bias=True)\n",
            "          (out_proj): Linear(in_features=512, out_features=512, bias=True)\n",
            "        )\n",
            "        (self_attn_layer_norm): LayerNorm((512,), eps=1e-05, elementwise_affine=True)\n",
            "        (dropout_module): FairseqDropout()\n",
            "        (activation_dropout_module): FairseqDropout()\n",
            "        (fc1): Linear(in_features=512, out_features=1024, bias=True)\n",
            "        (fc2): Linear(in_features=1024, out_features=512, bias=True)\n",
            "        (final_layer_norm): LayerNorm((512,), eps=1e-05, elementwise_affine=True)\n",
            "      )\n",
            "      (3): TransformerEncoderLayerBase(\n",
            "        (self_attn): MultiheadAttention(\n",
            "          (dropout_module): FairseqDropout()\n",
            "          (k_proj): Linear(in_features=512, out_features=512, bias=True)\n",
            "          (v_proj): Linear(in_features=512, out_features=512, bias=True)\n",
            "          (q_proj): Linear(in_features=512, out_features=512, bias=True)\n",
            "          (out_proj): Linear(in_features=512, out_features=512, bias=True)\n",
            "        )\n",
            "        (self_attn_layer_norm): LayerNorm((512,), eps=1e-05, elementwise_affine=True)\n",
            "        (dropout_module): FairseqDropout()\n",
            "        (activation_dropout_module): FairseqDropout()\n",
            "        (fc1): Linear(in_features=512, out_features=1024, bias=True)\n",
            "        (fc2): Linear(in_features=1024, out_features=512, bias=True)\n",
            "        (final_layer_norm): LayerNorm((512,), eps=1e-05, elementwise_affine=True)\n",
            "      )\n",
            "      (4): TransformerEncoderLayerBase(\n",
            "        (self_attn): MultiheadAttention(\n",
            "          (dropout_module): FairseqDropout()\n",
            "          (k_proj): Linear(in_features=512, out_features=512, bias=True)\n",
            "          (v_proj): Linear(in_features=512, out_features=512, bias=True)\n",
            "          (q_proj): Linear(in_features=512, out_features=512, bias=True)\n",
            "          (out_proj): Linear(in_features=512, out_features=512, bias=True)\n",
            "        )\n",
            "        (self_attn_layer_norm): LayerNorm((512,), eps=1e-05, elementwise_affine=True)\n",
            "        (dropout_module): FairseqDropout()\n",
            "        (activation_dropout_module): FairseqDropout()\n",
            "        (fc1): Linear(in_features=512, out_features=1024, bias=True)\n",
            "        (fc2): Linear(in_features=1024, out_features=512, bias=True)\n",
            "        (final_layer_norm): LayerNorm((512,), eps=1e-05, elementwise_affine=True)\n",
            "      )\n",
            "      (5): TransformerEncoderLayerBase(\n",
            "        (self_attn): MultiheadAttention(\n",
            "          (dropout_module): FairseqDropout()\n",
            "          (k_proj): Linear(in_features=512, out_features=512, bias=True)\n",
            "          (v_proj): Linear(in_features=512, out_features=512, bias=True)\n",
            "          (q_proj): Linear(in_features=512, out_features=512, bias=True)\n",
            "          (out_proj): Linear(in_features=512, out_features=512, bias=True)\n",
            "        )\n",
            "        (self_attn_layer_norm): LayerNorm((512,), eps=1e-05, elementwise_affine=True)\n",
            "        (dropout_module): FairseqDropout()\n",
            "        (activation_dropout_module): FairseqDropout()\n",
            "        (fc1): Linear(in_features=512, out_features=1024, bias=True)\n",
            "        (fc2): Linear(in_features=1024, out_features=512, bias=True)\n",
            "        (final_layer_norm): LayerNorm((512,), eps=1e-05, elementwise_affine=True)\n",
            "      )\n",
            "    )\n",
            "  )\n",
            "  (decoder): TransformerDecoderBase(\n",
            "    (dropout_module): FairseqDropout()\n",
            "    (embed_tokens): Embedding(32024, 512, padding_idx=1)\n",
            "    (embed_positions): SinusoidalPositionalEmbedding()\n",
            "    (layers): ModuleList(\n",
            "      (0): TransformerDecoderLayerBase(\n",
            "        (dropout_module): FairseqDropout()\n",
            "        (self_attn): MultiheadAttention(\n",
            "          (dropout_module): FairseqDropout()\n",
            "          (k_proj): Linear(in_features=512, out_features=512, bias=True)\n",
            "          (v_proj): Linear(in_features=512, out_features=512, bias=True)\n",
            "          (q_proj): Linear(in_features=512, out_features=512, bias=True)\n",
            "          (out_proj): Linear(in_features=512, out_features=512, bias=True)\n",
            "        )\n",
            "        (activation_dropout_module): FairseqDropout()\n",
            "        (self_attn_layer_norm): LayerNorm((512,), eps=1e-05, elementwise_affine=True)\n",
            "        (encoder_attn): MultiheadAttention(\n",
            "          (dropout_module): FairseqDropout()\n",
            "          (k_proj): Linear(in_features=512, out_features=512, bias=True)\n",
            "          (v_proj): Linear(in_features=512, out_features=512, bias=True)\n",
            "          (q_proj): Linear(in_features=512, out_features=512, bias=True)\n",
            "          (out_proj): Linear(in_features=512, out_features=512, bias=True)\n",
            "        )\n",
            "        (encoder_attn_layer_norm): LayerNorm((512,), eps=1e-05, elementwise_affine=True)\n",
            "        (fc1): Linear(in_features=512, out_features=1024, bias=True)\n",
            "        (fc2): Linear(in_features=1024, out_features=512, bias=True)\n",
            "        (final_layer_norm): LayerNorm((512,), eps=1e-05, elementwise_affine=True)\n",
            "      )\n",
            "      (1): TransformerDecoderLayerBase(\n",
            "        (dropout_module): FairseqDropout()\n",
            "        (self_attn): MultiheadAttention(\n",
            "          (dropout_module): FairseqDropout()\n",
            "          (k_proj): Linear(in_features=512, out_features=512, bias=True)\n",
            "          (v_proj): Linear(in_features=512, out_features=512, bias=True)\n",
            "          (q_proj): Linear(in_features=512, out_features=512, bias=True)\n",
            "          (out_proj): Linear(in_features=512, out_features=512, bias=True)\n",
            "        )\n",
            "        (activation_dropout_module): FairseqDropout()\n",
            "        (self_attn_layer_norm): LayerNorm((512,), eps=1e-05, elementwise_affine=True)\n",
            "        (encoder_attn): MultiheadAttention(\n",
            "          (dropout_module): FairseqDropout()\n",
            "          (k_proj): Linear(in_features=512, out_features=512, bias=True)\n",
            "          (v_proj): Linear(in_features=512, out_features=512, bias=True)\n",
            "          (q_proj): Linear(in_features=512, out_features=512, bias=True)\n",
            "          (out_proj): Linear(in_features=512, out_features=512, bias=True)\n",
            "        )\n",
            "        (encoder_attn_layer_norm): LayerNorm((512,), eps=1e-05, elementwise_affine=True)\n",
            "        (fc1): Linear(in_features=512, out_features=1024, bias=True)\n",
            "        (fc2): Linear(in_features=1024, out_features=512, bias=True)\n",
            "        (final_layer_norm): LayerNorm((512,), eps=1e-05, elementwise_affine=True)\n",
            "      )\n",
            "      (2): TransformerDecoderLayerBase(\n",
            "        (dropout_module): FairseqDropout()\n",
            "        (self_attn): MultiheadAttention(\n",
            "          (dropout_module): FairseqDropout()\n",
            "          (k_proj): Linear(in_features=512, out_features=512, bias=True)\n",
            "          (v_proj): Linear(in_features=512, out_features=512, bias=True)\n",
            "          (q_proj): Linear(in_features=512, out_features=512, bias=True)\n",
            "          (out_proj): Linear(in_features=512, out_features=512, bias=True)\n",
            "        )\n",
            "        (activation_dropout_module): FairseqDropout()\n",
            "        (self_attn_layer_norm): LayerNorm((512,), eps=1e-05, elementwise_affine=True)\n",
            "        (encoder_attn): MultiheadAttention(\n",
            "          (dropout_module): FairseqDropout()\n",
            "          (k_proj): Linear(in_features=512, out_features=512, bias=True)\n",
            "          (v_proj): Linear(in_features=512, out_features=512, bias=True)\n",
            "          (q_proj): Linear(in_features=512, out_features=512, bias=True)\n",
            "          (out_proj): Linear(in_features=512, out_features=512, bias=True)\n",
            "        )\n",
            "        (encoder_attn_layer_norm): LayerNorm((512,), eps=1e-05, elementwise_affine=True)\n",
            "        (fc1): Linear(in_features=512, out_features=1024, bias=True)\n",
            "        (fc2): Linear(in_features=1024, out_features=512, bias=True)\n",
            "        (final_layer_norm): LayerNorm((512,), eps=1e-05, elementwise_affine=True)\n",
            "      )\n",
            "      (3): TransformerDecoderLayerBase(\n",
            "        (dropout_module): FairseqDropout()\n",
            "        (self_attn): MultiheadAttention(\n",
            "          (dropout_module): FairseqDropout()\n",
            "          (k_proj): Linear(in_features=512, out_features=512, bias=True)\n",
            "          (v_proj): Linear(in_features=512, out_features=512, bias=True)\n",
            "          (q_proj): Linear(in_features=512, out_features=512, bias=True)\n",
            "          (out_proj): Linear(in_features=512, out_features=512, bias=True)\n",
            "        )\n",
            "        (activation_dropout_module): FairseqDropout()\n",
            "        (self_attn_layer_norm): LayerNorm((512,), eps=1e-05, elementwise_affine=True)\n",
            "        (encoder_attn): MultiheadAttention(\n",
            "          (dropout_module): FairseqDropout()\n",
            "          (k_proj): Linear(in_features=512, out_features=512, bias=True)\n",
            "          (v_proj): Linear(in_features=512, out_features=512, bias=True)\n",
            "          (q_proj): Linear(in_features=512, out_features=512, bias=True)\n",
            "          (out_proj): Linear(in_features=512, out_features=512, bias=True)\n",
            "        )\n",
            "        (encoder_attn_layer_norm): LayerNorm((512,), eps=1e-05, elementwise_affine=True)\n",
            "        (fc1): Linear(in_features=512, out_features=1024, bias=True)\n",
            "        (fc2): Linear(in_features=1024, out_features=512, bias=True)\n",
            "        (final_layer_norm): LayerNorm((512,), eps=1e-05, elementwise_affine=True)\n",
            "      )\n",
            "      (4): TransformerDecoderLayerBase(\n",
            "        (dropout_module): FairseqDropout()\n",
            "        (self_attn): MultiheadAttention(\n",
            "          (dropout_module): FairseqDropout()\n",
            "          (k_proj): Linear(in_features=512, out_features=512, bias=True)\n",
            "          (v_proj): Linear(in_features=512, out_features=512, bias=True)\n",
            "          (q_proj): Linear(in_features=512, out_features=512, bias=True)\n",
            "          (out_proj): Linear(in_features=512, out_features=512, bias=True)\n",
            "        )\n",
            "        (activation_dropout_module): FairseqDropout()\n",
            "        (self_attn_layer_norm): LayerNorm((512,), eps=1e-05, elementwise_affine=True)\n",
            "        (encoder_attn): MultiheadAttention(\n",
            "          (dropout_module): FairseqDropout()\n",
            "          (k_proj): Linear(in_features=512, out_features=512, bias=True)\n",
            "          (v_proj): Linear(in_features=512, out_features=512, bias=True)\n",
            "          (q_proj): Linear(in_features=512, out_features=512, bias=True)\n",
            "          (out_proj): Linear(in_features=512, out_features=512, bias=True)\n",
            "        )\n",
            "        (encoder_attn_layer_norm): LayerNorm((512,), eps=1e-05, elementwise_affine=True)\n",
            "        (fc1): Linear(in_features=512, out_features=1024, bias=True)\n",
            "        (fc2): Linear(in_features=1024, out_features=512, bias=True)\n",
            "        (final_layer_norm): LayerNorm((512,), eps=1e-05, elementwise_affine=True)\n",
            "      )\n",
            "      (5): TransformerDecoderLayerBase(\n",
            "        (dropout_module): FairseqDropout()\n",
            "        (self_attn): MultiheadAttention(\n",
            "          (dropout_module): FairseqDropout()\n",
            "          (k_proj): Linear(in_features=512, out_features=512, bias=True)\n",
            "          (v_proj): Linear(in_features=512, out_features=512, bias=True)\n",
            "          (q_proj): Linear(in_features=512, out_features=512, bias=True)\n",
            "          (out_proj): Linear(in_features=512, out_features=512, bias=True)\n",
            "        )\n",
            "        (activation_dropout_module): FairseqDropout()\n",
            "        (self_attn_layer_norm): LayerNorm((512,), eps=1e-05, elementwise_affine=True)\n",
            "        (encoder_attn): MultiheadAttention(\n",
            "          (dropout_module): FairseqDropout()\n",
            "          (k_proj): Linear(in_features=512, out_features=512, bias=True)\n",
            "          (v_proj): Linear(in_features=512, out_features=512, bias=True)\n",
            "          (q_proj): Linear(in_features=512, out_features=512, bias=True)\n",
            "          (out_proj): Linear(in_features=512, out_features=512, bias=True)\n",
            "        )\n",
            "        (encoder_attn_layer_norm): LayerNorm((512,), eps=1e-05, elementwise_affine=True)\n",
            "        (fc1): Linear(in_features=512, out_features=1024, bias=True)\n",
            "        (fc2): Linear(in_features=1024, out_features=512, bias=True)\n",
            "        (final_layer_norm): LayerNorm((512,), eps=1e-05, elementwise_affine=True)\n",
            "      )\n",
            "    )\n",
            "    (output_projection): Linear(in_features=512, out_features=32024, bias=False)\n",
            "  )\n",
            ")\n",
            "2022-11-30 17:13:08 | INFO | fairseq_cli.train | task: TranslationTask\n",
            "2022-11-30 17:13:08 | INFO | fairseq_cli.train | model: TransformerModel\n",
            "2022-11-30 17:13:08 | INFO | fairseq_cli.train | criterion: CrossEntropyCriterion\n",
            "2022-11-30 17:13:08 | INFO | fairseq_cli.train | num. shared model params: 93,316,096 (num. trained: 93,316,096)\n",
            "2022-11-30 17:13:08 | INFO | fairseq_cli.train | num. expert model params: 0 (num. trained: 0)\n",
            "2022-11-30 17:13:08 | INFO | fairseq.data.data_utils | loaded 1,000 examples from: data-bin/valid.ja-en.ja\n",
            "2022-11-30 17:13:08 | INFO | fairseq.data.data_utils | loaded 1,000 examples from: data-bin/valid.ja-en.en\n",
            "2022-11-30 17:13:08 | INFO | fairseq.tasks.translation | data-bin valid ja-en 1000 examples\n",
            "2022-11-30 17:13:10 | INFO | fairseq.utils | ***********************CUDA enviroments for all 1 workers***********************\n",
            "2022-11-30 17:13:10 | INFO | fairseq.utils | rank   0: capabilities =  7.5  ; total memory = 14.756 GB ; name = Tesla T4                                \n",
            "2022-11-30 17:13:10 | INFO | fairseq.utils | ***********************CUDA enviroments for all 1 workers***********************\n",
            "2022-11-30 17:13:10 | INFO | fairseq_cli.train | training on 1 devices (GPUs/TPUs)\n",
            "2022-11-30 17:13:10 | INFO | fairseq_cli.train | max tokens per device = None and max sentences per device = 128\n",
            "2022-11-30 17:13:10 | INFO | fairseq.trainer | Preparing to load checkpoint /content/small/small.pretrain.pt\n",
            "2022-11-30 17:13:11 | INFO | fairseq.trainer | NOTE: your device may support faster training with --fp16 or --amp\n",
            "2022-11-30 17:13:11 | INFO | fairseq.trainer | Loaded checkpoint /content/small/small.pretrain.pt (epoch 16 @ 0 updates)\n",
            "2022-11-30 17:13:11 | INFO | fairseq.trainer | loading train data for epoch 1\n",
            "2022-11-30 17:13:11 | INFO | fairseq.data.data_utils | loaded 50,000 examples from: data-bin/train.ja-en.ja\n",
            "2022-11-30 17:13:11 | INFO | fairseq.data.data_utils | loaded 50,000 examples from: data-bin/train.ja-en.en\n",
            "2022-11-30 17:13:11 | INFO | fairseq.tasks.translation | data-bin train ja-en 50000 examples\n",
            "2022-11-30 17:13:11 | INFO | fairseq.data.iterators | grouped total_num_itrs = 391\n",
            "epoch 001:   0% 0/391 [00:00<?, ?it/s]2022-11-30 17:13:11 | INFO | fairseq.trainer | begin training epoch 1\n",
            "2022-11-30 17:13:11 | INFO | fairseq_cli.train | Start iterating over samples\n",
            "/usr/local/lib/python3.7/dist-packages/fairseq/utils.py:375: UserWarning: amp_C fused kernels unavailable, disabling multi_tensor_l2norm; you may get better performance by installing NVIDIA's apex library\n",
            "  \"amp_C fused kernels unavailable, disabling multi_tensor_l2norm; \"\n",
            "epoch 001: 100% 390/391 [01:04<00:00,  5.95it/s, loss=1.834, ppl=3.56, wps=8030.3, ups=5.98, wpb=1342.8, bsz=127.5, num_updates=300, lr=7.5e-05, gnorm=2.377, train_wall=16, gb_free=13.1, wall=51]2022-11-30 17:14:16 | INFO | fairseq_cli.train | begin validation on \"valid\" subset\n",
            "\n",
            "epoch 001 | valid on 'valid' subset:   0% 0/8 [00:00<?, ?it/s]\u001b[A\n",
            "epoch 001 | valid on 'valid' subset:  12% 1/8 [00:00<00:01,  6.01it/s]\u001b[A\n",
            "epoch 001 | valid on 'valid' subset:  38% 3/8 [00:00<00:00, 10.69it/s]\u001b[A\n",
            "epoch 001 | valid on 'valid' subset:  62% 5/8 [00:00<00:00, 12.61it/s]\u001b[A\n",
            "epoch 001 | valid on 'valid' subset:  88% 7/8 [00:00<00:00, 11.51it/s]\u001b[A\n",
            "                                                                      \u001b[A2022-11-30 17:14:16 | INFO | valid | epoch 001 | valid on 'valid' subset | loss 1.819 | ppl 3.53 | wps 17035.5 | wpb 1440.5 | bsz 125 | num_updates 391\n",
            "2022-11-30 17:14:16 | INFO | fairseq.checkpoint_utils | Preparing to save checkpoint for epoch 1 @ 391 updates\n",
            "2022-11-30 17:14:16 | INFO | fairseq.trainer | Saving checkpoint to /content/checkpoints/checkpoint_best.pt\n",
            "2022-11-30 17:14:21 | INFO | fairseq.trainer | Finished saving checkpoint to /content/checkpoints/checkpoint_best.pt\n",
            "2022-11-30 17:14:25 | INFO | fairseq.checkpoint_utils | Saved checkpoint checkpoints/checkpoint_best.pt (epoch 1 @ 391 updates, score 1.819) (writing took 8.769709910000529 seconds)\n",
            "2022-11-30 17:14:25 | INFO | fairseq_cli.train | end of epoch 1 (average epoch stats below)\n",
            "2022-11-30 17:14:25 | INFO | train | epoch 001 | loss 2.162 | ppl 4.47 | wps 7135.5 | ups 5.39 | wpb 1324 | bsz 127.9 | num_updates 391 | lr 9.775e-05 | gnorm 3.947 | train_wall 63 | gb_free 13 | wall 75\n",
            "2022-11-30 17:14:25 | INFO | fairseq.data.iterators | grouped total_num_itrs = 391\n",
            "epoch 002:   0% 0/391 [00:00<?, ?it/s]2022-11-30 17:14:25 | INFO | fairseq.trainer | begin training epoch 2\n",
            "2022-11-30 17:14:25 | INFO | fairseq_cli.train | Start iterating over samples\n",
            "epoch 002: 100% 390/391 [01:05<00:00,  7.01it/s, loss=1.466, ppl=2.76, wps=7996.6, ups=6.09, wpb=1312.4, bsz=127.5, num_updates=700, lr=7.55929e-05, gnorm=2.117, train_wall=16, gb_free=13.1, wall=127]2022-11-30 17:15:31 | INFO | fairseq_cli.train | begin validation on \"valid\" subset\n",
            "\n",
            "epoch 002 | valid on 'valid' subset:   0% 0/8 [00:00<?, ?it/s]\u001b[A\n",
            "epoch 002 | valid on 'valid' subset:  25% 2/8 [00:00<00:00, 14.72it/s]\u001b[A\n",
            "epoch 002 | valid on 'valid' subset:  50% 4/8 [00:00<00:00, 13.60it/s]\u001b[A\n",
            "epoch 002 | valid on 'valid' subset:  75% 6/8 [00:00<00:00, 13.06it/s]\u001b[A\n",
            "epoch 002 | valid on 'valid' subset: 100% 8/8 [00:00<00:00,  9.85it/s]\u001b[A\n",
            "                                                                      \u001b[A2022-11-30 17:15:32 | INFO | valid | epoch 002 | valid on 'valid' subset | loss 1.691 | ppl 3.23 | wps 15708.8 | wpb 1440.5 | bsz 125 | num_updates 782 | best_loss 1.691\n",
            "2022-11-30 17:15:32 | INFO | fairseq.checkpoint_utils | Preparing to save checkpoint for epoch 2 @ 782 updates\n",
            "2022-11-30 17:15:32 | INFO | fairseq.trainer | Saving checkpoint to /content/checkpoints/checkpoint_best.pt\n",
            "2022-11-30 17:15:36 | INFO | fairseq.trainer | Finished saving checkpoint to /content/checkpoints/checkpoint_best.pt\n",
            "2022-11-30 17:15:40 | INFO | fairseq.checkpoint_utils | Saved checkpoint checkpoints/checkpoint_best.pt (epoch 2 @ 782 updates, score 1.691) (writing took 8.100374531997659 seconds)\n",
            "2022-11-30 17:15:40 | INFO | fairseq_cli.train | end of epoch 2 (average epoch stats below)\n",
            "2022-11-30 17:15:40 | INFO | train | epoch 002 | loss 1.547 | ppl 2.92 | wps 6946.5 | ups 5.25 | wpb 1324 | bsz 127.9 | num_updates 782 | lr 7.15199e-05 | gnorm 2.187 | train_wall 64 | gb_free 12.7 | wall 149\n",
            "2022-11-30 17:15:40 | INFO | fairseq.data.iterators | grouped total_num_itrs = 391\n",
            "epoch 003:   0% 0/391 [00:00<?, ?it/s]2022-11-30 17:15:40 | INFO | fairseq.trainer | begin training epoch 3\n",
            "2022-11-30 17:15:40 | INFO | fairseq_cli.train | Start iterating over samples\n",
            "epoch 003: 100% 390/391 [01:07<00:00,  4.89it/s, loss=1.347, ppl=2.54, wps=7766.9, ups=5.72, wpb=1358.1, bsz=128, num_updates=1100, lr=6.03023e-05, gnorm=2.059, train_wall=17, gb_free=13, wall=205]2022-11-30 17:16:47 | INFO | fairseq_cli.train | begin validation on \"valid\" subset\n",
            "\n",
            "epoch 003 | valid on 'valid' subset:   0% 0/8 [00:00<?, ?it/s]\u001b[A\n",
            "epoch 003 | valid on 'valid' subset:  25% 2/8 [00:00<00:00, 14.50it/s]\u001b[A\n",
            "epoch 003 | valid on 'valid' subset:  50% 4/8 [00:00<00:00, 13.54it/s]\u001b[A\n",
            "epoch 003 | valid on 'valid' subset:  75% 6/8 [00:00<00:00, 13.12it/s]\u001b[A\n",
            "epoch 003 | valid on 'valid' subset: 100% 8/8 [00:00<00:00,  9.95it/s]\u001b[A\n",
            "                                                                      \u001b[A2022-11-30 17:16:48 | INFO | valid | epoch 003 | valid on 'valid' subset | loss 1.641 | ppl 3.12 | wps 15946.5 | wpb 1440.5 | bsz 125 | num_updates 1173 | best_loss 1.641\n",
            "2022-11-30 17:16:48 | INFO | fairseq.checkpoint_utils | Preparing to save checkpoint for epoch 3 @ 1173 updates\n",
            "2022-11-30 17:16:48 | INFO | fairseq.trainer | Saving checkpoint to /content/checkpoints/checkpoint_best.pt\n",
            "2022-11-30 17:16:52 | INFO | fairseq.trainer | Finished saving checkpoint to /content/checkpoints/checkpoint_best.pt\n",
            "2022-11-30 17:16:57 | INFO | fairseq.checkpoint_utils | Saved checkpoint checkpoints/checkpoint_best.pt (epoch 3 @ 1173 updates, score 1.641) (writing took 8.325516239001445 seconds)\n",
            "2022-11-30 17:16:57 | INFO | fairseq_cli.train | end of epoch 3 (average epoch stats below)\n",
            "2022-11-30 17:16:57 | INFO | train | epoch 003 | loss 1.335 | ppl 2.52 | wps 6741.5 | ups 5.09 | wpb 1324 | bsz 127.9 | num_updates 1173 | lr 5.83957e-05 | gnorm 2.09 | train_wall 66 | gb_free 12.6 | wall 226\n",
            "2022-11-30 17:16:57 | INFO | fairseq.data.iterators | grouped total_num_itrs = 391\n",
            "epoch 004:   0% 0/391 [00:00<?, ?it/s]2022-11-30 17:16:57 | INFO | fairseq.trainer | begin training epoch 4\n",
            "2022-11-30 17:16:57 | INFO | fairseq_cli.train | Start iterating over samples\n",
            "epoch 004: 100% 390/391 [01:07<00:00,  6.76it/s, loss=1.19, ppl=2.28, wps=7826.2, ups=5.73, wpb=1365.5, bsz=128, num_updates=1500, lr=5.16398e-05, gnorm=2.037, train_wall=17, gb_free=13, wall=283]2022-11-30 17:18:04 | INFO | fairseq_cli.train | begin validation on \"valid\" subset\n",
            "\n",
            "epoch 004 | valid on 'valid' subset:   0% 0/8 [00:00<?, ?it/s]\u001b[A\n",
            "epoch 004 | valid on 'valid' subset:  25% 2/8 [00:00<00:00, 15.57it/s]\u001b[A\n",
            "epoch 004 | valid on 'valid' subset:  50% 4/8 [00:00<00:00, 13.87it/s]\u001b[A\n",
            "epoch 004 | valid on 'valid' subset:  75% 6/8 [00:00<00:00, 13.17it/s]\u001b[A\n",
            "epoch 004 | valid on 'valid' subset: 100% 8/8 [00:00<00:00,  9.91it/s]\u001b[A\n",
            "                                                                      \u001b[A2022-11-30 17:18:05 | INFO | valid | epoch 004 | valid on 'valid' subset | loss 1.667 | ppl 3.18 | wps 15873.7 | wpb 1440.5 | bsz 125 | num_updates 1564 | best_loss 1.641\n",
            "2022-11-30 17:18:05 | INFO | fairseq.checkpoint_utils | Preparing to save checkpoint for epoch 4 @ 1564 updates\n",
            "2022-11-30 17:18:05 | INFO | fairseq.trainer | Saving checkpoint to /content/checkpoints/checkpoint_last.pt\n",
            "2022-11-30 17:18:09 | INFO | fairseq.trainer | Finished saving checkpoint to /content/checkpoints/checkpoint_last.pt\n",
            "2022-11-30 17:18:09 | INFO | fairseq.checkpoint_utils | Saved checkpoint checkpoints/checkpoint_last.pt (epoch 4 @ 1564 updates, score 1.667) (writing took 4.448657856002683 seconds)\n",
            "2022-11-30 17:18:09 | INFO | fairseq_cli.train | end of epoch 4 (average epoch stats below)\n",
            "2022-11-30 17:18:09 | INFO | train | epoch 004 | loss 1.203 | ppl 2.3 | wps 7113.3 | ups 5.37 | wpb 1324 | bsz 127.9 | num_updates 1564 | lr 5.05722e-05 | gnorm 2.056 | train_wall 66 | gb_free 12.1 | wall 299\n",
            "2022-11-30 17:18:09 | INFO | fairseq.data.iterators | grouped total_num_itrs = 391\n",
            "epoch 005:   0% 0/391 [00:00<?, ?it/s]2022-11-30 17:18:09 | INFO | fairseq.trainer | begin training epoch 5\n",
            "2022-11-30 17:18:09 | INFO | fairseq_cli.train | Start iterating over samples\n",
            "epoch 005: 100% 390/391 [01:07<00:00,  5.70it/s, loss=1.069, ppl=2.1, wps=7748.8, ups=5.94, wpb=1303.4, bsz=128, num_updates=1900, lr=4.58831e-05, gnorm=2.084, train_wall=17, gb_free=13, wall=357]2022-11-30 17:19:17 | INFO | fairseq_cli.train | begin validation on \"valid\" subset\n",
            "\n",
            "epoch 005 | valid on 'valid' subset:   0% 0/8 [00:00<?, ?it/s]\u001b[A\n",
            "epoch 005 | valid on 'valid' subset:  25% 2/8 [00:00<00:00, 15.80it/s]\u001b[A\n",
            "epoch 005 | valid on 'valid' subset:  50% 4/8 [00:00<00:00, 13.82it/s]\u001b[A\n",
            "epoch 005 | valid on 'valid' subset:  75% 6/8 [00:00<00:00, 13.23it/s]\u001b[A\n",
            "epoch 005 | valid on 'valid' subset: 100% 8/8 [00:00<00:00,  9.95it/s]\u001b[A\n",
            "                                                                      \u001b[A2022-11-30 17:19:18 | INFO | valid | epoch 005 | valid on 'valid' subset | loss 1.608 | ppl 3.05 | wps 15884.9 | wpb 1440.5 | bsz 125 | num_updates 1955 | best_loss 1.608\n",
            "2022-11-30 17:19:18 | INFO | fairseq.checkpoint_utils | Preparing to save checkpoint for epoch 5 @ 1955 updates\n",
            "2022-11-30 17:19:18 | INFO | fairseq.trainer | Saving checkpoint to /content/checkpoints/checkpoint_best.pt\n",
            "2022-11-30 17:19:22 | INFO | fairseq.trainer | Finished saving checkpoint to /content/checkpoints/checkpoint_best.pt\n",
            "2022-11-30 17:19:26 | INFO | fairseq.checkpoint_utils | Saved checkpoint checkpoints/checkpoint_best.pt (epoch 5 @ 1955 updates, score 1.608) (writing took 8.083225776998006 seconds)\n",
            "2022-11-30 17:19:26 | INFO | fairseq_cli.train | end of epoch 5 (average epoch stats below)\n",
            "2022-11-30 17:19:26 | INFO | train | epoch 005 | loss 1.112 | ppl 2.16 | wps 6758.6 | ups 5.1 | wpb 1324 | bsz 127.9 | num_updates 1955 | lr 4.52331e-05 | gnorm 2.046 | train_wall 66 | gb_free 12.9 | wall 376\n",
            "2022-11-30 17:19:26 | INFO | fairseq.data.iterators | grouped total_num_itrs = 391\n",
            "epoch 006:   0% 0/391 [00:00<?, ?it/s]2022-11-30 17:19:26 | INFO | fairseq.trainer | begin training epoch 6\n",
            "2022-11-30 17:19:26 | INFO | fairseq_cli.train | Start iterating over samples\n",
            "epoch 006: 100% 390/391 [01:07<00:00,  6.32it/s, loss=1.051, ppl=2.07, wps=7707.6, ups=5.78, wpb=1332.6, bsz=128, num_updates=2300, lr=4.17029e-05, gnorm=2.067, train_wall=17, gb_free=12.8, wall=436]2022-11-30 17:20:34 | INFO | fairseq_cli.train | begin validation on \"valid\" subset\n",
            "\n",
            "epoch 006 | valid on 'valid' subset:   0% 0/8 [00:00<?, ?it/s]\u001b[A\n",
            "epoch 006 | valid on 'valid' subset:  25% 2/8 [00:00<00:00, 14.68it/s]\u001b[A\n",
            "epoch 006 | valid on 'valid' subset:  50% 4/8 [00:00<00:00, 13.59it/s]\u001b[A\n",
            "epoch 006 | valid on 'valid' subset:  75% 6/8 [00:00<00:00, 13.02it/s]\u001b[A\n",
            "epoch 006 | valid on 'valid' subset: 100% 8/8 [00:00<00:00,  9.84it/s]\u001b[A\n",
            "                                                                      \u001b[A2022-11-30 17:20:34 | INFO | valid | epoch 006 | valid on 'valid' subset | loss 1.609 | ppl 3.05 | wps 15758.6 | wpb 1440.5 | bsz 125 | num_updates 2346 | best_loss 1.608\n",
            "2022-11-30 17:20:34 | INFO | fairseq.checkpoint_utils | Preparing to save checkpoint for epoch 6 @ 2346 updates\n",
            "2022-11-30 17:20:34 | INFO | fairseq.trainer | Saving checkpoint to /content/checkpoints/checkpoint_last.pt\n",
            "2022-11-30 17:20:39 | INFO | fairseq.trainer | Finished saving checkpoint to /content/checkpoints/checkpoint_last.pt\n",
            "2022-11-30 17:20:39 | INFO | fairseq.checkpoint_utils | Saved checkpoint checkpoints/checkpoint_last.pt (epoch 6 @ 2346 updates, score 1.609) (writing took 4.517625019998377 seconds)\n",
            "2022-11-30 17:20:39 | INFO | fairseq_cli.train | end of epoch 6 (average epoch stats below)\n",
            "2022-11-30 17:20:39 | INFO | train | epoch 006 | loss 1.036 | ppl 2.05 | wps 7094.7 | ups 5.36 | wpb 1324 | bsz 127.9 | num_updates 2346 | lr 4.1292e-05 | gnorm 2.044 | train_wall 66 | gb_free 13 | wall 449\n",
            "2022-11-30 17:20:39 | INFO | fairseq.data.iterators | grouped total_num_itrs = 391\n",
            "epoch 007:   0% 0/391 [00:00<?, ?it/s]2022-11-30 17:20:39 | INFO | fairseq.trainer | begin training epoch 7\n",
            "2022-11-30 17:20:39 | INFO | fairseq_cli.train | Start iterating over samples\n",
            "epoch 007: 100% 390/391 [01:07<00:00,  6.04it/s, loss=1.026, ppl=2.04, wps=7567.1, ups=5.74, wpb=1318.4, bsz=127.5, num_updates=2700, lr=3.849e-05, gnorm=2.107, train_wall=17, gb_free=13.2, wall=510]2022-11-30 17:21:47 | INFO | fairseq_cli.train | begin validation on \"valid\" subset\n",
            "\n",
            "epoch 007 | valid on 'valid' subset:   0% 0/8 [00:00<?, ?it/s]\u001b[A\n",
            "epoch 007 | valid on 'valid' subset:  25% 2/8 [00:00<00:00, 15.25it/s]\u001b[A\n",
            "epoch 007 | valid on 'valid' subset:  50% 4/8 [00:00<00:00, 13.43it/s]\u001b[A\n",
            "epoch 007 | valid on 'valid' subset:  75% 6/8 [00:00<00:00, 13.02it/s]\u001b[A\n",
            "epoch 007 | valid on 'valid' subset: 100% 8/8 [00:00<00:00,  9.95it/s]\u001b[A\n",
            "                                                                      \u001b[A2022-11-30 17:21:47 | INFO | valid | epoch 007 | valid on 'valid' subset | loss 1.627 | ppl 3.09 | wps 15831 | wpb 1440.5 | bsz 125 | num_updates 2737 | best_loss 1.608\n",
            "2022-11-30 17:21:47 | INFO | fairseq.checkpoint_utils | Preparing to save checkpoint for epoch 7 @ 2737 updates\n",
            "2022-11-30 17:21:47 | INFO | fairseq.trainer | Saving checkpoint to /content/checkpoints/checkpoint_last.pt\n",
            "2022-11-30 17:21:51 | INFO | fairseq.trainer | Finished saving checkpoint to /content/checkpoints/checkpoint_last.pt\n",
            "2022-11-30 17:21:51 | INFO | fairseq.checkpoint_utils | Saved checkpoint checkpoints/checkpoint_last.pt (epoch 7 @ 2737 updates, score 1.627) (writing took 4.123158741000225 seconds)\n",
            "2022-11-30 17:21:51 | INFO | fairseq_cli.train | end of epoch 7 (average epoch stats below)\n",
            "2022-11-30 17:21:51 | INFO | train | epoch 007 | loss 0.97 | ppl 1.96 | wps 7134.2 | ups 5.39 | wpb 1324 | bsz 127.9 | num_updates 2737 | lr 3.8229e-05 | gnorm 2.044 | train_wall 66 | gb_free 12.8 | wall 521\n",
            "2022-11-30 17:21:51 | INFO | fairseq.data.iterators | grouped total_num_itrs = 391\n",
            "epoch 008:   0% 0/391 [00:00<?, ?it/s]2022-11-30 17:21:51 | INFO | fairseq.trainer | begin training epoch 8\n",
            "2022-11-30 17:21:51 | INFO | fairseq_cli.train | Start iterating over samples\n",
            "epoch 008: 100% 390/391 [01:07<00:00,  5.62it/s, loss=0.959, ppl=1.94, wps=7608.2, ups=5.65, wpb=1346.9, bsz=128, num_updates=3100, lr=3.59211e-05, gnorm=2.037, train_wall=17, gb_free=13.2, wall=584]2022-11-30 17:22:59 | INFO | fairseq_cli.train | begin validation on \"valid\" subset\n",
            "\n",
            "epoch 008 | valid on 'valid' subset:   0% 0/8 [00:00<?, ?it/s]\u001b[A\n",
            "epoch 008 | valid on 'valid' subset:  25% 2/8 [00:00<00:00, 15.46it/s]\u001b[A\n",
            "epoch 008 | valid on 'valid' subset:  50% 4/8 [00:00<00:00, 13.68it/s]\u001b[A\n",
            "epoch 008 | valid on 'valid' subset:  75% 6/8 [00:00<00:00, 13.09it/s]\u001b[A\n",
            "epoch 008 | valid on 'valid' subset: 100% 8/8 [00:00<00:00,  9.88it/s]\u001b[A\n",
            "                                                                      \u001b[A2022-11-30 17:23:00 | INFO | valid | epoch 008 | valid on 'valid' subset | loss 1.619 | ppl 3.07 | wps 15760.1 | wpb 1440.5 | bsz 125 | num_updates 3128 | best_loss 1.608\n",
            "2022-11-30 17:23:00 | INFO | fairseq_cli.train | early stop since valid performance hasn't improved for last 3 runs\n",
            "2022-11-30 17:23:00 | INFO | fairseq.checkpoint_utils | Preparing to save checkpoint for epoch 8 @ 3128 updates\n",
            "2022-11-30 17:23:00 | INFO | fairseq.trainer | Saving checkpoint to /content/checkpoints/checkpoint_last.pt\n",
            "2022-11-30 17:23:04 | INFO | fairseq.trainer | Finished saving checkpoint to /content/checkpoints/checkpoint_last.pt\n",
            "2022-11-30 17:23:04 | INFO | fairseq.checkpoint_utils | Saved checkpoint checkpoints/checkpoint_last.pt (epoch 8 @ 3128 updates, score 1.619) (writing took 4.226356270999531 seconds)\n",
            "2022-11-30 17:23:04 | INFO | fairseq_cli.train | end of epoch 8 (average epoch stats below)\n",
            "2022-11-30 17:23:04 | INFO | train | epoch 008 | loss 0.919 | ppl 1.89 | wps 7110 | ups 5.37 | wpb 1324 | bsz 127.9 | num_updates 3128 | lr 3.57599e-05 | gnorm 2.044 | train_wall 66 | gb_free 12.6 | wall 594\n",
            "2022-11-30 17:23:04 | INFO | fairseq_cli.train | done training in 593.0 seconds\n"
          ]
        }
      ]
    },
    {
      "cell_type": "code",
      "source": [
        "# テストデータに対する翻訳\n",
        "\n",
        "! fairseq-interactive data-bin --path /content/checkpoints/checkpoint_best.pt --batch-size 256 --buffer-size 512 < test.ja \\\n",
        "--gen-subset test | grep \"^H-\" | sort -V | cut -f3 > fairseq.en.test.txt\n",
        "ref_file = \"/content/test.en\"\n",
        "bleu(ref_file, \"fairseq.en.test.txt\")"
      ],
      "metadata": {
        "id": "2uDJbLQdwJBs",
        "colab": {
          "base_uri": "https://localhost:8080/"
        },
        "outputId": "70ee91a9-a224-44af-9c27-0674e2ee0476"
      },
      "execution_count": null,
      "outputs": [
        {
          "output_type": "stream",
          "name": "stdout",
          "text": [
            "2022-11-30 16:54:11 | INFO | fairseq.tasks.text_to_speech | Please install tensorboardX: pip install tensorboardX\n",
            "2022-11-30 16:54:12 | INFO | fairseq_cli.interactive | {'_name': None, 'common': {'_name': None, 'no_progress_bar': False, 'log_interval': 100, 'log_format': None, 'log_file': None, 'aim_repo': None, 'aim_run_hash': None, 'tensorboard_logdir': None, 'wandb_project': None, 'azureml_logging': False, 'seed': 1, 'cpu': False, 'tpu': False, 'bf16': False, 'memory_efficient_bf16': False, 'fp16': False, 'memory_efficient_fp16': False, 'fp16_no_flatten_grads': False, 'fp16_init_scale': 128, 'fp16_scale_window': None, 'fp16_scale_tolerance': 0.0, 'on_cpu_convert_precision': False, 'min_loss_scale': 0.0001, 'threshold_loss_scale': None, 'amp': False, 'amp_batch_retries': 2, 'amp_init_scale': 128, 'amp_scale_window': None, 'user_dir': None, 'empty_cache_freq': 0, 'all_gather_list_size': 16384, 'model_parallel_size': 1, 'quantization_config_path': None, 'profile': False, 'reset_logging': False, 'suppress_crashes': False, 'use_plasma_view': False, 'plasma_path': '/tmp/plasma'}, 'common_eval': {'_name': None, 'path': '/content/checkpoints/checkpoint_best.pt', 'post_process': None, 'quiet': False, 'model_overrides': '{}', 'results_path': None}, 'distributed_training': {'_name': None, 'distributed_world_size': 1, 'distributed_num_procs': 1, 'distributed_rank': 0, 'distributed_backend': 'nccl', 'distributed_init_method': None, 'distributed_port': -1, 'device_id': 0, 'distributed_no_spawn': False, 'ddp_backend': 'pytorch_ddp', 'ddp_comm_hook': 'none', 'bucket_cap_mb': 25, 'fix_batches_to_gpus': False, 'find_unused_parameters': False, 'gradient_as_bucket_view': False, 'fast_stat_sync': False, 'heartbeat_timeout': -1, 'broadcast_buffers': False, 'slowmo_momentum': None, 'slowmo_base_algorithm': 'localsgd', 'localsgd_frequency': 3, 'nprocs_per_node': 1, 'pipeline_model_parallel': False, 'pipeline_balance': None, 'pipeline_devices': None, 'pipeline_chunks': 0, 'pipeline_encoder_balance': None, 'pipeline_encoder_devices': None, 'pipeline_decoder_balance': None, 'pipeline_decoder_devices': None, 'pipeline_checkpoint': 'never', 'zero_sharding': 'none', 'fp16': False, 'memory_efficient_fp16': False, 'tpu': False, 'no_reshard_after_forward': False, 'fp32_reduce_scatter': False, 'cpu_offload': False, 'use_sharded_state': False, 'not_fsdp_flatten_parameters': False}, 'dataset': {'_name': None, 'num_workers': 1, 'skip_invalid_size_inputs_valid_test': False, 'max_tokens': None, 'batch_size': 256, 'required_batch_size_multiple': 8, 'required_seq_len_multiple': 1, 'dataset_impl': None, 'data_buffer_size': 10, 'train_subset': 'train', 'valid_subset': 'valid', 'combine_valid_subsets': None, 'ignore_unused_valid_subsets': False, 'validate_interval': 1, 'validate_interval_updates': 0, 'validate_after_updates': 0, 'fixed_validation_seed': None, 'disable_validation': False, 'max_tokens_valid': None, 'batch_size_valid': 256, 'max_valid_steps': None, 'curriculum': 0, 'gen_subset': 'test', 'num_shards': 1, 'shard_id': 0, 'grouped_shuffling': False, 'update_epoch_batch_itr': False, 'update_ordered_indices_seed': False}, 'optimization': {'_name': None, 'max_epoch': 0, 'max_update': 0, 'stop_time_hours': 0.0, 'clip_norm': 0.0, 'sentence_avg': False, 'update_freq': [1], 'lr': [0.25], 'stop_min_lr': -1.0, 'use_bmuf': False, 'skip_remainder_batch': False}, 'checkpoint': {'_name': None, 'save_dir': 'checkpoints', 'restore_file': 'checkpoint_last.pt', 'continue_once': None, 'finetune_from_model': None, 'reset_dataloader': False, 'reset_lr_scheduler': False, 'reset_meters': False, 'reset_optimizer': False, 'optimizer_overrides': '{}', 'save_interval': 1, 'save_interval_updates': 0, 'keep_interval_updates': -1, 'keep_interval_updates_pattern': -1, 'keep_last_epochs': -1, 'keep_best_checkpoints': -1, 'no_save': False, 'no_epoch_checkpoints': False, 'no_last_checkpoints': False, 'no_save_optimizer_state': False, 'best_checkpoint_metric': 'loss', 'maximize_best_checkpoint_metric': False, 'patience': -1, 'checkpoint_suffix': '', 'checkpoint_shard_count': 1, 'load_checkpoint_on_all_dp_ranks': False, 'write_checkpoints_asynchronously': False, 'model_parallel_size': 1}, 'bmuf': {'_name': None, 'block_lr': 1.0, 'block_momentum': 0.875, 'global_sync_iter': 50, 'warmup_iterations': 500, 'use_nbm': False, 'average_sync': False, 'distributed_world_size': 1}, 'generation': {'_name': None, 'beam': 5, 'nbest': 1, 'max_len_a': 0.0, 'max_len_b': 200, 'min_len': 1, 'match_source_len': False, 'unnormalized': False, 'no_early_stop': False, 'no_beamable_mm': False, 'lenpen': 1.0, 'unkpen': 0.0, 'replace_unk': None, 'sacrebleu': False, 'score_reference': False, 'prefix_size': 0, 'no_repeat_ngram_size': 0, 'sampling': False, 'sampling_topk': -1, 'sampling_topp': -1.0, 'constraints': None, 'temperature': 1.0, 'diverse_beam_groups': -1, 'diverse_beam_strength': 0.5, 'diversity_rate': -1.0, 'print_alignment': None, 'print_step': False, 'lm_path': None, 'lm_weight': 0.0, 'iter_decode_eos_penalty': 0.0, 'iter_decode_max_iter': 10, 'iter_decode_force_max_iter': False, 'iter_decode_with_beam': 1, 'iter_decode_with_external_reranker': False, 'retain_iter_history': False, 'retain_dropout': False, 'retain_dropout_modules': None, 'decoding_format': None, 'no_seed_provided': False, 'eos_token': None}, 'eval_lm': {'_name': None, 'output_word_probs': False, 'output_word_stats': False, 'context_window': 0, 'softmax_batch': 9223372036854775807}, 'interactive': {'_name': None, 'buffer_size': 512, 'input': '-'}, 'model': None, 'task': {'_name': 'translation', 'data': 'data-bin', 'source_lang': None, 'target_lang': None, 'load_alignments': False, 'left_pad_source': True, 'left_pad_target': False, 'max_source_positions': 1024, 'max_target_positions': 1024, 'upsample_primary': -1, 'truncate_source': False, 'num_batch_buckets': 0, 'train_subset': 'train', 'dataset_impl': None, 'required_seq_len_multiple': 1, 'eval_bleu': False, 'eval_bleu_args': '{}', 'eval_bleu_detok': 'space', 'eval_bleu_detok_args': '{}', 'eval_tokenized_bleu': False, 'eval_bleu_remove_bpe': None, 'eval_bleu_print_samples': False}, 'criterion': {'_name': 'cross_entropy', 'sentence_avg': True}, 'optimizer': None, 'lr_scheduler': {'_name': 'fixed', 'force_anneal': None, 'lr_shrink': 0.1, 'warmup_updates': 0, 'lr': [0.25]}, 'scoring': {'_name': 'bleu', 'pad': 1, 'eos': 2, 'unk': 3}, 'bpe': None, 'tokenizer': None, 'ema': {'_name': None, 'store_ema': False, 'ema_decay': 0.9999, 'ema_start_update': 0, 'ema_seed_model': None, 'ema_update_freq': 1, 'ema_fp32': False}}\n",
            "2022-11-30 16:54:12 | INFO | fairseq.tasks.translation | [ja] dictionary: 31984 types\n",
            "2022-11-30 16:54:12 | INFO | fairseq.tasks.translation | [en] dictionary: 32024 types\n",
            "2022-11-30 16:54:12 | INFO | fairseq_cli.interactive | loading model(s) from /content/checkpoints/checkpoint_best.pt\n",
            "2022-11-30 16:54:20 | INFO | fairseq_cli.interactive | Sentence buffer size: 512\n",
            "2022-11-30 16:54:20 | INFO | fairseq_cli.interactive | NOTE: hypothesis and token scores are output in base 2\n",
            "2022-11-30 16:54:20 | INFO | fairseq_cli.interactive | Type the input sentence and press return:\n",
            "2022-11-30 16:54:27 | INFO | fairseq_cli.interactive | Total time: 14.486 seconds; translation time: 4.410\n",
            "BLEU = 39.27\n"
          ]
        }
      ]
    },
    {
      "cell_type": "code",
      "source": [
        "# 提出データに対する翻訳\n",
        "! fairseq-interactive data-bin --path /content/checkpoints/checkpoint_best.pt --batch-size 256 --buffer-size 512 < eval.ja \\\n",
        "--gen-subset test | grep \"^H-\" | sort -V | cut -f3 > fairseq.en.eval.txt"
      ],
      "metadata": {
        "id": "OZVX9-un3rjr",
        "colab": {
          "base_uri": "https://localhost:8080/"
        },
        "outputId": "5179ea6c-50e2-4f65-d6f2-00b660598205"
      },
      "execution_count": null,
      "outputs": [
        {
          "output_type": "stream",
          "name": "stdout",
          "text": [
            "2022-11-30 17:23:56 | INFO | fairseq.tasks.text_to_speech | Please install tensorboardX: pip install tensorboardX\n",
            "2022-11-30 17:23:58 | INFO | fairseq_cli.interactive | {'_name': None, 'common': {'_name': None, 'no_progress_bar': False, 'log_interval': 100, 'log_format': None, 'log_file': None, 'aim_repo': None, 'aim_run_hash': None, 'tensorboard_logdir': None, 'wandb_project': None, 'azureml_logging': False, 'seed': 1, 'cpu': False, 'tpu': False, 'bf16': False, 'memory_efficient_bf16': False, 'fp16': False, 'memory_efficient_fp16': False, 'fp16_no_flatten_grads': False, 'fp16_init_scale': 128, 'fp16_scale_window': None, 'fp16_scale_tolerance': 0.0, 'on_cpu_convert_precision': False, 'min_loss_scale': 0.0001, 'threshold_loss_scale': None, 'amp': False, 'amp_batch_retries': 2, 'amp_init_scale': 128, 'amp_scale_window': None, 'user_dir': None, 'empty_cache_freq': 0, 'all_gather_list_size': 16384, 'model_parallel_size': 1, 'quantization_config_path': None, 'profile': False, 'reset_logging': False, 'suppress_crashes': False, 'use_plasma_view': False, 'plasma_path': '/tmp/plasma'}, 'common_eval': {'_name': None, 'path': '/content/checkpoints/checkpoint_best.pt', 'post_process': None, 'quiet': False, 'model_overrides': '{}', 'results_path': None}, 'distributed_training': {'_name': None, 'distributed_world_size': 1, 'distributed_num_procs': 1, 'distributed_rank': 0, 'distributed_backend': 'nccl', 'distributed_init_method': None, 'distributed_port': -1, 'device_id': 0, 'distributed_no_spawn': False, 'ddp_backend': 'pytorch_ddp', 'ddp_comm_hook': 'none', 'bucket_cap_mb': 25, 'fix_batches_to_gpus': False, 'find_unused_parameters': False, 'gradient_as_bucket_view': False, 'fast_stat_sync': False, 'heartbeat_timeout': -1, 'broadcast_buffers': False, 'slowmo_momentum': None, 'slowmo_base_algorithm': 'localsgd', 'localsgd_frequency': 3, 'nprocs_per_node': 1, 'pipeline_model_parallel': False, 'pipeline_balance': None, 'pipeline_devices': None, 'pipeline_chunks': 0, 'pipeline_encoder_balance': None, 'pipeline_encoder_devices': None, 'pipeline_decoder_balance': None, 'pipeline_decoder_devices': None, 'pipeline_checkpoint': 'never', 'zero_sharding': 'none', 'fp16': False, 'memory_efficient_fp16': False, 'tpu': False, 'no_reshard_after_forward': False, 'fp32_reduce_scatter': False, 'cpu_offload': False, 'use_sharded_state': False, 'not_fsdp_flatten_parameters': False}, 'dataset': {'_name': None, 'num_workers': 1, 'skip_invalid_size_inputs_valid_test': False, 'max_tokens': None, 'batch_size': 256, 'required_batch_size_multiple': 8, 'required_seq_len_multiple': 1, 'dataset_impl': None, 'data_buffer_size': 10, 'train_subset': 'train', 'valid_subset': 'valid', 'combine_valid_subsets': None, 'ignore_unused_valid_subsets': False, 'validate_interval': 1, 'validate_interval_updates': 0, 'validate_after_updates': 0, 'fixed_validation_seed': None, 'disable_validation': False, 'max_tokens_valid': None, 'batch_size_valid': 256, 'max_valid_steps': None, 'curriculum': 0, 'gen_subset': 'test', 'num_shards': 1, 'shard_id': 0, 'grouped_shuffling': False, 'update_epoch_batch_itr': False, 'update_ordered_indices_seed': False}, 'optimization': {'_name': None, 'max_epoch': 0, 'max_update': 0, 'stop_time_hours': 0.0, 'clip_norm': 0.0, 'sentence_avg': False, 'update_freq': [1], 'lr': [0.25], 'stop_min_lr': -1.0, 'use_bmuf': False, 'skip_remainder_batch': False}, 'checkpoint': {'_name': None, 'save_dir': 'checkpoints', 'restore_file': 'checkpoint_last.pt', 'continue_once': None, 'finetune_from_model': None, 'reset_dataloader': False, 'reset_lr_scheduler': False, 'reset_meters': False, 'reset_optimizer': False, 'optimizer_overrides': '{}', 'save_interval': 1, 'save_interval_updates': 0, 'keep_interval_updates': -1, 'keep_interval_updates_pattern': -1, 'keep_last_epochs': -1, 'keep_best_checkpoints': -1, 'no_save': False, 'no_epoch_checkpoints': False, 'no_last_checkpoints': False, 'no_save_optimizer_state': False, 'best_checkpoint_metric': 'loss', 'maximize_best_checkpoint_metric': False, 'patience': -1, 'checkpoint_suffix': '', 'checkpoint_shard_count': 1, 'load_checkpoint_on_all_dp_ranks': False, 'write_checkpoints_asynchronously': False, 'model_parallel_size': 1}, 'bmuf': {'_name': None, 'block_lr': 1.0, 'block_momentum': 0.875, 'global_sync_iter': 50, 'warmup_iterations': 500, 'use_nbm': False, 'average_sync': False, 'distributed_world_size': 1}, 'generation': {'_name': None, 'beam': 5, 'nbest': 1, 'max_len_a': 0.0, 'max_len_b': 200, 'min_len': 1, 'match_source_len': False, 'unnormalized': False, 'no_early_stop': False, 'no_beamable_mm': False, 'lenpen': 1.0, 'unkpen': 0.0, 'replace_unk': None, 'sacrebleu': False, 'score_reference': False, 'prefix_size': 0, 'no_repeat_ngram_size': 0, 'sampling': False, 'sampling_topk': -1, 'sampling_topp': -1.0, 'constraints': None, 'temperature': 1.0, 'diverse_beam_groups': -1, 'diverse_beam_strength': 0.5, 'diversity_rate': -1.0, 'print_alignment': None, 'print_step': False, 'lm_path': None, 'lm_weight': 0.0, 'iter_decode_eos_penalty': 0.0, 'iter_decode_max_iter': 10, 'iter_decode_force_max_iter': False, 'iter_decode_with_beam': 1, 'iter_decode_with_external_reranker': False, 'retain_iter_history': False, 'retain_dropout': False, 'retain_dropout_modules': None, 'decoding_format': None, 'no_seed_provided': False, 'eos_token': None}, 'eval_lm': {'_name': None, 'output_word_probs': False, 'output_word_stats': False, 'context_window': 0, 'softmax_batch': 9223372036854775807}, 'interactive': {'_name': None, 'buffer_size': 512, 'input': '-'}, 'model': None, 'task': {'_name': 'translation', 'data': 'data-bin', 'source_lang': None, 'target_lang': None, 'load_alignments': False, 'left_pad_source': True, 'left_pad_target': False, 'max_source_positions': 1024, 'max_target_positions': 1024, 'upsample_primary': -1, 'truncate_source': False, 'num_batch_buckets': 0, 'train_subset': 'train', 'dataset_impl': None, 'required_seq_len_multiple': 1, 'eval_bleu': False, 'eval_bleu_args': '{}', 'eval_bleu_detok': 'space', 'eval_bleu_detok_args': '{}', 'eval_tokenized_bleu': False, 'eval_bleu_remove_bpe': None, 'eval_bleu_print_samples': False}, 'criterion': {'_name': 'cross_entropy', 'sentence_avg': True}, 'optimizer': None, 'lr_scheduler': {'_name': 'fixed', 'force_anneal': None, 'lr_shrink': 0.1, 'warmup_updates': 0, 'lr': [0.25]}, 'scoring': {'_name': 'bleu', 'pad': 1, 'eos': 2, 'unk': 3}, 'bpe': None, 'tokenizer': None, 'ema': {'_name': None, 'store_ema': False, 'ema_decay': 0.9999, 'ema_start_update': 0, 'ema_seed_model': None, 'ema_update_freq': 1, 'ema_fp32': False}}\n",
            "2022-11-30 17:23:58 | INFO | fairseq.tasks.translation | [ja] dictionary: 31984 types\n",
            "2022-11-30 17:23:58 | INFO | fairseq.tasks.translation | [en] dictionary: 32024 types\n",
            "2022-11-30 17:23:58 | INFO | fairseq_cli.interactive | loading model(s) from /content/checkpoints/checkpoint_best.pt\n",
            "2022-11-30 17:24:06 | INFO | fairseq_cli.interactive | Sentence buffer size: 512\n",
            "2022-11-30 17:24:06 | INFO | fairseq_cli.interactive | NOTE: hypothesis and token scores are output in base 2\n",
            "2022-11-30 17:24:06 | INFO | fairseq_cli.interactive | Type the input sentence and press return:\n",
            "2022-11-30 17:24:12 | INFO | fairseq_cli.interactive | Total time: 14.884 seconds; translation time: 4.168\n"
          ]
        }
      ]
    },
    {
      "cell_type": "markdown",
      "source": [
        "#提出用ファイルをデコード"
      ],
      "metadata": {
        "id": "LXh2AnhWX-N9"
      }
    },
    {
      "cell_type": "code",
      "source": [
        "# 単語分割器 mosestokenizer\n",
        "\n",
        "! pip install mosestokenizer"
      ],
      "metadata": {
        "id": "Gmk4OjRNOk5H",
        "colab": {
          "base_uri": "https://localhost:8080/"
        },
        "outputId": "6b192ef7-66ba-4b83-a382-4d2404abff8f"
      },
      "execution_count": null,
      "outputs": [
        {
          "output_type": "stream",
          "name": "stdout",
          "text": [
            "Looking in indexes: https://pypi.org/simple, https://us-python.pkg.dev/colab-wheels/public/simple/\n",
            "Collecting mosestokenizer\n",
            "  Downloading mosestokenizer-1.2.1.tar.gz (37 kB)\n",
            "Collecting docopt\n",
            "  Downloading docopt-0.6.2.tar.gz (25 kB)\n",
            "Collecting openfile\n",
            "  Downloading openfile-0.0.7-py3-none-any.whl (2.4 kB)\n",
            "Collecting uctools\n",
            "  Downloading uctools-1.3.0.tar.gz (4.6 kB)\n",
            "Collecting toolwrapper\n",
            "  Downloading toolwrapper-2.1.0.tar.gz (3.2 kB)\n",
            "Building wheels for collected packages: mosestokenizer, docopt, toolwrapper, uctools\n",
            "  Building wheel for mosestokenizer (setup.py) ... \u001b[?25l\u001b[?25hdone\n",
            "  Created wheel for mosestokenizer: filename=mosestokenizer-1.2.1-py3-none-any.whl size=49188 sha256=117664fd019b920b76031440258270ec82c8c5ea54f146dc773212ffb9ecedf9\n",
            "  Stored in directory: /root/.cache/pip/wheels/b0/35/f7/af1258779a0b890abc3c79481460c597cb1f3659d0603cfb9d\n",
            "  Building wheel for docopt (setup.py) ... \u001b[?25l\u001b[?25hdone\n",
            "  Created wheel for docopt: filename=docopt-0.6.2-py2.py3-none-any.whl size=13723 sha256=5e7d5e1d9c99bf13798d5d896268d4d428334b00505b8fd3b59576a8d112ff04\n",
            "  Stored in directory: /root/.cache/pip/wheels/72/b0/3f/1d95f96ff986c7dfffe46ce2be4062f38ebd04b506c77c81b9\n",
            "  Building wheel for toolwrapper (setup.py) ... \u001b[?25l\u001b[?25hdone\n",
            "  Created wheel for toolwrapper: filename=toolwrapper-2.1.0-py3-none-any.whl size=3353 sha256=7ddf6c0057dead9ea353467f0d5e958aae0447152372b03ca51e5d63fb51c18f\n",
            "  Stored in directory: /root/.cache/pip/wheels/c5/4f/33/54741ffe08e38ececb1d28068a153729b4fe820bafa0a0691f\n",
            "  Building wheel for uctools (setup.py) ... \u001b[?25l\u001b[?25hdone\n",
            "  Created wheel for uctools: filename=uctools-1.3.0-py3-none-any.whl size=6162 sha256=053e10af1328b144881bf18767823d5751d99012ee024ffbc84252ae114fbfe0\n",
            "  Stored in directory: /root/.cache/pip/wheels/fb/44/e9/914cf8fa71f0141f9314f862538d1218fcf2b94542a0fb7d35\n",
            "Successfully built mosestokenizer docopt toolwrapper uctools\n",
            "Installing collected packages: uctools, toolwrapper, openfile, docopt, mosestokenizer\n",
            "Successfully installed docopt-0.6.2 mosestokenizer-1.2.1 openfile-0.0.7 toolwrapper-2.1.0 uctools-1.3.0\n"
          ]
        }
      ]
    },
    {
      "cell_type": "code",
      "source": [
        "# 機械翻訳\n",
        "\n",
        "from mosestokenizer import MosesTokenizer\n",
        "tokenizer = MosesTokenizer(\"en\", \"no-escape\")\n",
        "\n",
        "fname =  \"/content/fairseq.en.eval.txt\"\n",
        "fout = open(fname.replace(\".txt\", \".tok.txt\"), \"w\")\n",
        "fin = open(fname, \"r\")\n",
        "for line in fin:\n",
        "    text = sp_en.decode_pieces(line.split()).strip('_')\n",
        "    fout.write(\" \".join([word for word in tokenizer(text.strip().lower())]) + \"\\n\")\n",
        "fin.close()\n",
        "fout.close()"
      ],
      "metadata": {
        "id": "yoFkLqNjOmSX"
      },
      "execution_count": null,
      "outputs": []
    }
  ]
}